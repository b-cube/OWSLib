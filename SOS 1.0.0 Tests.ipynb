{
 "metadata": {
  "name": "",
  "signature": "sha256:2bc072aa29ca237e0a3f262726655ce72b6265731d3a6443bd555aad5abbffd3"
 },
 "nbformat": 3,
 "nbformat_minor": 0,
 "worksheets": [
  {
   "cells": [
    {
     "cell_type": "markdown",
     "metadata": {},
     "source": [
      "### Tasks\n",
      "\n",
      "<font color='red'>#</font> "
     ]
    },
    {
     "cell_type": "code",
     "collapsed": false,
     "input": [
      "%reload_ext autoreload\n",
      "%autoreload 2\n",
      "\n",
      "from owslib.sos import SensorObservationService"
     ],
     "language": "python",
     "metadata": {},
     "outputs": [],
     "prompt_number": 1
    },
    {
     "cell_type": "code",
     "collapsed": false,
     "input": [
      "# sos 1.0.0\n",
      "with open('notebooks/xmls/sos100.xml', 'r') as f:\n",
      "    xml = f.read()\n",
      "\n",
      "sos100 = SensorObservationService('', xml=xml, version='1.0.0')\n",
      "\n",
      "print 'title:', sos100.identification.title\n",
      "print 'abstract:', sos100.identification.abstract\n",
      "print 'keywords:', sos100.identification.keywords\n",
      "print 'access constraints:', sos100.identification.accessconstraints\n",
      "print 'contact:', sos100.provider.contact.name\n",
      "\n",
      "for op in sos100.operations:\n",
      "    print op.name , '(', op.formatOptions, ')'\n",
      "    print '\\t', op.methods\n",
      "    print '\\t', op.parameters\n",
      "    print ''"
     ],
     "language": "python",
     "metadata": {},
     "outputs": [
      {
       "output_type": "stream",
       "stream": "stdout",
       "text": [
        "title: Louisiana Universities Marine Consortium (LUMCON) SOS\n",
        "abstract: None\n",
        "keywords: ['Ocean Observation']\n",
        "access constraints: NONE\n",
        "contact: Holly Hebert\n",
        "GetCapabilities ( ['text/xml'] )\n",
        "\t[{'url': 'http://weather.lumcon.edu/sos/oostethys_server.asp', 'type': 'Get', 'constraints': []}, {'url': 'http://weather.lumcon.edu/sos/oostethys_server.asp', 'type': 'Post', 'constraints': []}]\n",
        "\t{'version': {'values': ['1.0.0']}, 'service': {'values': ['SOS']}}\n",
        "\n",
        "GetObservation ( ['text/xml'] )\n",
        "\t[{'url': 'http://weather.lumcon.edu/sos/oostethys_server.asp', 'type': 'Get', 'constraints': []}, {'url': 'http://weather.lumcon.edu/sos/oostethys_server.asp', 'type': 'Post', 'constraints': []}]\n",
        "\t{'eventTime': {'values': []}, 'observedProperty': {'values': ['air_pressure', 'air_temperature', 'dissolved_oxygen', 'relative_humidity', 'salinity', 'downward_shortwave_radiation', 'surface_elevation', 'water_temperature', 'wind_speed']}, 'offering': {'values': ['101', '102', '103', '104', '105']}}\n",
        "\n",
        "DescribeSensor ( ['text/xml'] )\n",
        "\t[{'url': 'http://weather.lumcon.edu/sos/oostethys_server.asp', 'type': 'Get', 'constraints': []}, {'url': 'http://weather.lumcon.edu/sos/oostethys_server.asp', 'type': 'Post', 'constraints': []}]\n",
        "\t{'procedure': {'values': ['urn:disl.org:source.mooring#disl', 'urn:disl.org:source.mooring#mbla', 'urn:disl.org:source.mooring#mhpa']}}\n",
        "\n"
       ]
      }
     ],
     "prompt_number": 4
    },
    {
     "cell_type": "code",
     "collapsed": false,
     "input": [],
     "language": "python",
     "metadata": {},
     "outputs": []
    }
   ],
   "metadata": {}
  }
 ]
}