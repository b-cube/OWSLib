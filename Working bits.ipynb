{
 "metadata": {
  "name": "",
  "signature": "sha256:19306937059f87138d748fda7a3f9ab4b0cd05fac8f2dca6a273f2632a9abdea"
 },
 "nbformat": 3,
 "nbformat_minor": 0,
 "worksheets": [
  {
   "cells": [
    {
     "cell_type": "code",
     "collapsed": false,
     "input": [
      "import re\n",
      "import HTMLParser"
     ],
     "language": "python",
     "metadata": {},
     "outputs": [],
     "prompt_number": 2
    },
    {
     "cell_type": "code",
     "collapsed": false,
     "input": [
      "def normalize_keyword_text(keyword_string):\n",
      "    if not keyword_string:\n",
      "        return\n",
      "\n",
      "    # unescape\n",
      "    hp = HTMLParser.HTMLParser()\n",
      "    keyword_string = hp.unescape(keyword_string)\n",
      "\n",
      "    # replace underscoares (assume these are NOT delimiters\n",
      "    #    but phrase concatenators)\n",
      "    underscore_pattern = r'[_]'\n",
      "    keyword_string = re.sub(underscore_pattern, ' ', keyword_string)\n",
      "\n",
      "    punctuation_pattern = r'[;|>+:=+]'\n",
      "    return re.sub(punctuation_pattern, ',', keyword_string)\n",
      "\n",
      "def normalize_subjects(subjects, do_split=False):\n",
      "    '''\n",
      "    for a given set of subject strings, run the keyword\n",
      "    normalizer ()\n",
      "    '''\n",
      "    normalized_subjects = []\n",
      "    for subject in subjects:\n",
      "        normalized = normalize_keyword_text(subject)\n",
      "        normalized_subjects += [n.strip() for n in normalized.split(',')] \\\n",
      "            if do_split else [normalized]\n",
      "\n",
      "    return normalized_subjects    \n",
      "\n",
      "test_subjects = [\n",
      "    (['single phrase'], ['single phrase']),\n",
      "    (['soil; water; air'], ['soil', 'water', 'air']),\n",
      "    (['soil > water > air'], ['soil', 'water', 'air']),\n",
      "    (['soil &gt; water &gt; air'], ['soil', 'water', 'air']),\n",
      "    (['soil: water: air'], ['soil', 'water', 'air']),\n",
      "    (['soil = water; air'], ['soil', 'water', 'air']),\n",
      "    (['soil+water+air'], ['soil', 'water', 'air']),\n",
      "    (['soil| water|air'], ['soil', 'water', 'air']),\n",
      "    (['single_phrase; soil; water; air'], ['single phrase', 'soil', 'water', 'air']),\n",
      "    (['single_phrase; soil', 'water > air'], ['single phrase', 'soil', 'water', 'air'])\n",
      "]\n",
      "\n",
      "for test_subject, expected in test_subjects:\n",
      "    normalized = normalize_subjects(test_subject, True)\n",
      "    \n",
      "    is_match = normalized == expected\n",
      "    \n",
      "    if not is_match:\n",
      "        print 'test', test_subject\n",
      "        print 'expected', expected\n",
      "        print 'normalized', normalized\n",
      "    \n",
      "    \n",
      "    "
     ],
     "language": "python",
     "metadata": {},
     "outputs": [],
     "prompt_number": 5
    },
    {
     "cell_type": "code",
     "collapsed": false,
     "input": [],
     "language": "python",
     "metadata": {},
     "outputs": []
    }
   ],
   "metadata": {}
  }
 ]
}