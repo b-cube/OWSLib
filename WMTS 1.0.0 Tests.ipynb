{
 "metadata": {
  "name": "",
  "signature": "sha256:2ca4b43f1032461eaccaae2fc0bc037709987ef47092fdba93beb4c10e13a563"
 },
 "nbformat": 3,
 "nbformat_minor": 0,
 "worksheets": [
  {
   "cells": [
    {
     "cell_type": "markdown",
     "metadata": {},
     "source": [
      "### Tasks\n",
      "\n",
      "<font color='red'>#</font> Fails on optional ServiceProvider read"
     ]
    },
    {
     "cell_type": "code",
     "collapsed": false,
     "input": [
      "%reload_ext autoreload\n",
      "%autoreload 2\n",
      "\n",
      "from owslib.wmts import WebMapTileService"
     ],
     "language": "python",
     "metadata": {},
     "outputs": [
      {
       "output_type": "stream",
       "stream": "stdout",
       "text": [
        "\n"
       ]
      }
     ],
     "prompt_number": 6
    },
    {
     "cell_type": "code",
     "collapsed": false,
     "input": [
      "# wmts 1.0.0\n",
      "with open('notebooks/xmls/wmts100.xml', 'r') as f:\n",
      "    xml = f.read()\n",
      "\n",
      "wmts = WebMapTileService('', xml=xml, version='1.0.0')\n",
      "\n",
      "print 'title:', wmts.identification.title\n",
      "print 'abstract:', wmts.identification.abstract\n",
      "print 'keywords:', wmts.identification.keywords\n",
      "print 'access constraints:', wmts.identification.accessconstraints\n",
      "try:\n",
      "    print 'contact:', wmts.provider.contact.name\n",
      "except:\n",
      "    pass\n",
      "\n",
      "for op in wmts.operations:\n",
      "    print op.name , '(', op.formatOptions, ')'\n",
      "    print '\\t', op.methods\n",
      "    print '\\t', op.parameters\n",
      "    print ''"
     ],
     "language": "python",
     "metadata": {},
     "outputs": [
      {
       "output_type": "stream",
       "stream": "stdout",
       "text": [
        " title: web_mercator_trackline_gravity\n",
        "abstract: None\n",
        "keywords: []\n",
        "access constraints: None\n",
        "contact: GetCapabilities ( ['text/xml'] )\n",
        "\t[{'url': 'http://maps.ngdc.noaa.gov/arcgis/rest/services/web_mercator/trackline_gravity/MapServer/WMTS/1.0.0/WMTSCapabilities.xml', 'type': 'Get', 'constraints': [Constraint: GetEncoding - ['RESTful']]}, {'url': 'http://maps.ngdc.noaa.gov/arcgis/rest/services/web_mercator/trackline_gravity/MapServer/WMTS?', 'type': 'Get', 'constraints': [Constraint: GetEncoding - ['KVP']]}]\n",
        "\t{}\n",
        "\n",
        "GetTile ( ['text/xml'] )\n",
        "\t[{'url': 'http://maps.ngdc.noaa.gov/arcgis/rest/services/web_mercator/trackline_gravity/MapServer/WMTS/tile/1.0.0/', 'type': 'Get', 'constraints': [Constraint: GetEncoding - ['RESTful']]}, {'url': 'http://maps.ngdc.noaa.gov/arcgis/rest/services/web_mercator/trackline_gravity/MapServer/WMTS?', 'type': 'Get', 'constraints': [Constraint: GetEncoding - ['KVP']]}]\n",
        "\t{}\n",
        "\n"
       ]
      }
     ],
     "prompt_number": 8
    },
    {
     "cell_type": "code",
     "collapsed": false,
     "input": [],
     "language": "python",
     "metadata": {},
     "outputs": []
    }
   ],
   "metadata": {}
  }
 ]
}