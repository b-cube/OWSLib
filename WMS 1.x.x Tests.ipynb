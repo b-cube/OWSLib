{
 "metadata": {
  "name": "",
  "signature": "sha256:4b29714c7372b0c26e8d75fa8c9c53710acd72800e34896f7a1b1b4793df470a"
 },
 "nbformat": 3,
 "nbformat_minor": 0,
 "worksheets": [
  {
   "cells": [
    {
     "cell_type": "code",
     "collapsed": false,
     "input": [
      "%reload_ext autoreload\n",
      "%autoreload 2\n",
      "\n",
      "from owslib.wms import WebMapService"
     ],
     "language": "python",
     "metadata": {},
     "outputs": [],
     "prompt_number": 10
    },
    {
     "cell_type": "code",
     "collapsed": false,
     "input": [
      "# wms 1.1.1\n",
      "with open('notebooks/xmls/wms111.xml', 'r') as f:\n",
      "    wms111 = f.read()\n",
      "\n",
      "wms = WebMapService('', xml=wms111, version='1.1.1')\n",
      "print 'title:', wms.identification.title\n",
      "print 'abstract:', wms.identification.abstract\n",
      "print 'keywords:', wms.identification.keywords\n",
      "print 'access constraints:', wms.identification.accessconstraints\n",
      "print 'contact:', wms.provider.contact.name\n",
      "\n",
      "for op in wms.operations:\n",
      "    print op.name , '(', op.formatOptions, ')'\n",
      "    print '\\t', op.methods\n",
      "    # print '\\t', op.parameters\n",
      "    print ''\n",
      "    \n",
      "print wms.contents\n",
      "\n",
      "layer = wms.contents['TRMM_3A12_V7_MONTHLY_surfaceRain']\n",
      "print layer.title\n",
      "print layer.keywords\n",
      "print layer.boundingBox \n",
      "print layer.crsOptions"
     ],
     "language": "python",
     "metadata": {},
     "outputs": [
      {
       "output_type": "stream",
       "stream": "stdout",
       "text": [
        "title: Tropical Rainfall Measuring Mission (TRMM) Data from NASA Goddard Earth Sciences Data and Information Services Center (GES DISC)\n",
        "abstract: None\n",
        "keywords: []\n",
        "access constraints: None\n",
        "contact: None\n",
        "GetCapabilities ( ['application/vnd.ogc.wms_xml'] )\n",
        "\t[{'url': 'http://disc1.sci.gsfc.nasa.gov/daac-bin/wms_trmm?', 'type': 'Get'}, {'url': 'http://disc1.sci.gsfc.nasa.gov/daac-bin/wms_trmm?', 'type': 'Post'}]\n",
        "\n",
        "{'GES_DISC_WMS_AG': <owslib.map.wms111.ContentMetadata instance at 0x1050f31b8>, 'TRMM_3A12_V7_MONTHLY_surfaceRain': <owslib.map.wms111.ContentMetadata instance at 0x10510dea8>, 'TRMM_3A11_V7_MONTHLY_rain': <owslib.map.wms111.ContentMetadata instance at 0x10510d638>}\n",
        "TRMM_3A12_MONTHLY_surfaceRain\n",
        "['surface rain', ' cloud liquid water content', ' latent heat', ' NpixTotal', ' EOSDIS']\n",
        "(-180.0, -40.0, 180.0, 40.0, 'EPSG:4326')\n",
        "['EPSG:4326']\n"
       ]
      }
     ],
     "prompt_number": 16
    },
    {
     "cell_type": "code",
     "collapsed": false,
     "input": [
      "# wms 1.3.0\n",
      "with open('notebooks/xmls/wms130.xml', 'r') as f:\n",
      "    wms130 = f.read()\n",
      "\n",
      "wms = WebMapService('', xml=wms130, version='1.3.0')\n",
      "print 'title:', wms.identification.title\n",
      "print 'abstract:', wms.identification.abstract\n",
      "print 'keywords:', wms.identification.keywords\n",
      "print 'access constraints:', wms.identification.accessconstraints\n",
      "print 'contact:', wms.provider.contact.name\n",
      "\n",
      "for op in wms.operations:\n",
      "    print op.name , '(', op.formatOptions, ')'\n",
      "    print '\\t', op.methods\n",
      "    # print '\\t', op.parameters\n",
      "    print ''"
     ],
     "language": "python",
     "metadata": {},
     "outputs": [
      {
       "output_type": "stream",
       "stream": "stdout",
       "text": [
        "title: Initial TDS Installation\n",
        "abstract: Scientific Data\n",
        "keywords: ['meteorology', 'atmosphere', 'climate', 'ocean', 'earth science']\n",
        "access constraints: none\n",
        "contact: Support\n",
        "GetCapabilities ( ['text/xml'] )\n",
        "\t[{'url': 'http://ferret.pmel.noaa.gov/thredds/wms/las/woa05_monthly/data_ferret.pmel.noaa.gov_thredds_dodsC_data_PMEL_WOA05nc_monthly_o0112mn1.nc.jnl', 'type': 'Get'}]\n",
        "\n",
        "GetMap ( ['image/png', 'image/png;mode=32bit', 'image/gif', 'image/jpeg', 'application/vnd.google-earth.kmz'] )\n",
        "\t[{'url': 'http://ferret.pmel.noaa.gov/thredds/wms/las/woa05_monthly/data_ferret.pmel.noaa.gov_thredds_dodsC_data_PMEL_WOA05nc_monthly_o0112mn1.nc.jnl', 'type': 'Get'}]\n",
        "\n",
        "GetFeatureInfo ( ['image/png', 'text/xml'] )\n",
        "\t[{'url': 'http://ferret.pmel.noaa.gov/thredds/wms/las/woa05_monthly/data_ferret.pmel.noaa.gov_thredds_dodsC_data_PMEL_WOA05nc_monthly_o0112mn1.nc.jnl', 'type': 'Get'}]\n",
        "\n"
       ]
      }
     ],
     "prompt_number": 12
    },
    {
     "cell_type": "heading",
     "level": 3,
     "metadata": {},
     "source": [
      "WMS 1.3.0 CRS Tests"
     ]
    },
    {
     "cell_type": "code",
     "collapsed": false,
     "input": [
      "# wms 1.3.0 from the national atlas\n",
      "with open('tests/resources/wms_nationalatlas_getcapabilities_130.xml', 'r') as f:\n",
      "    text = f.read()\n",
      "    \n",
      "wms = WebMapService('', xml=text, version='1.3.0')\n",
      "\n",
      "print wms.identification.title\n",
      "\n",
      "wms.contents\n",
      "\n",
      "layer = wms.contents['airports1m']\n",
      "print layer.title\n",
      "print layer.keywords\n",
      "print layer.boundingBox \n",
      "print layer.crsOptions\n"
     ],
     "language": "python",
     "metadata": {},
     "outputs": [
      {
       "output_type": "stream",
       "stream": "stdout",
       "text": [
        "1 Million Scale WMS Layers from the National Atlas of the United States\n",
        "1 Million Scale - Airports\n",
        "[]\n",
        "(-176.646, 17.7016, -64.8017, 71.2854, None)\n",
        "['EPSG:4326', 'EPSG:4269', 'EPSG:3785', 'EPSG:4267', 'EPSG:900913', 'EPSG:54008', 'EPSG:102100', 'CRS:84', 'EPSG:54004', 'EPSG:102113', 'EPSG:2163', 'EPSG:3857']\n"
       ]
      }
     ],
     "prompt_number": 13
    },
    {
     "cell_type": "code",
     "collapsed": false,
     "input": [
      "# wms 1.1.1\n",
      "with open('notebooks/xmls/wms_mesonet-caps-111-crs.xml', 'r') as f:\n",
      "    wms111 = f.read()\n",
      "\n",
      "wms = WebMapService('', xml=wms111, version='1.1.1')\n",
      "print 'title:', wms.identification.title\n",
      "print 'abstract:', wms.identification.abstract\n",
      "print 'keywords:', wms.identification.keywords\n",
      "print 'access constraints:', wms.identification.accessconstraints\n",
      "print 'contact:', wms.provider.contact.name\n",
      "\n",
      "# for op in wms.operations:\n",
      "#     print op.name , '(', op.formatOptions, ')'\n",
      "#     print '\\t', op.methods\n",
      "#     # print '\\t', op.parameters\n",
      "#     print ''\n",
      "    \n",
      "print wms.contents\n",
      "\n",
      "layer = wms.contents['time_idx']\n",
      "print layer.title\n",
      "print layer.keywords\n",
      "print layer.boundingBox \n",
      "print layer.crsOptions"
     ],
     "language": "python",
     "metadata": {},
     "outputs": [
      {
       "output_type": "stream",
       "stream": "stdout",
       "text": [
        "title: IEM WMS Service\n",
        "abstract: IEM generated CONUS composite of NWS WSR-88D level III base reflectivity.\n",
        "keywords: []\n",
        "access constraints: None\n",
        "contact: Daryl Herzmann\n",
        "{'time_idx': <owslib.map.wms111.ContentMetadata instance at 0x1050e3e60>, 'nexrad-n0r-wmst': <owslib.map.wms111.ContentMetadata instance at 0x1050e37e8>, 'nexrad_base_reflect': <owslib.map.wms111.ContentMetadata instance at 0x10510db00>}\n",
        "NEXRAD BASE REFLECT\n",
        "[]\n",
        "(-126.0, 24.0, -66.0, 50.0, 'EPSG:4326')\n",
        "['EPSG:900913', 'EPSG:4326', 'EPSG:3857', 'EPSG:102100']\n"
       ]
      }
     ],
     "prompt_number": 18
    },
    {
     "cell_type": "code",
     "collapsed": false,
     "input": [],
     "language": "python",
     "metadata": {},
     "outputs": []
    }
   ],
   "metadata": {}
  }
 ]
}