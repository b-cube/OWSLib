{
 "metadata": {
  "name": "",
  "signature": "sha256:73d8d6d690969f8e875472ce9f86f423c07ccedec804cca92a97dee19a786a34"
 },
 "nbformat": 3,
 "nbformat_minor": 0,
 "worksheets": [
  {
   "cells": [
    {
     "cell_type": "code",
     "collapsed": false,
     "input": [
      "%reload_ext autoreload\n",
      "%autoreload 2\n",
      "\n",
      "from owslib.wms import WebMapService"
     ],
     "language": "python",
     "metadata": {},
     "outputs": [],
     "prompt_number": 5
    },
    {
     "cell_type": "code",
     "collapsed": false,
     "input": [
      "# wms 1.1.1\n",
      "with open('notebooks/xmls/wms111.xml', 'r') as f:\n",
      "    wms111 = f.read()\n",
      "\n",
      "wms = WebMapService('', xml=wms111, version='1.1.1')\n",
      "print 'title:', wms.identification.title\n",
      "print 'abstract:', wms.identification.abstract\n",
      "print 'keywords:', wms.identification.keywords\n",
      "print 'access constraints:', wms.identification.accessconstraints\n",
      "print 'contact:', wms.provider.contact.name\n",
      "\n",
      "for op in wms.operations:\n",
      "    print op.name , '(', op.formatOptions, ')'\n",
      "    print '\\t', op.methods\n",
      "    # print '\\t', op.parameters\n",
      "    print ''"
     ],
     "language": "python",
     "metadata": {},
     "outputs": [
      {
       "output_type": "stream",
       "stream": "stdout",
       "text": [
        "title: Tropical Rainfall Measuring Mission (TRMM) Data from NASA Goddard Earth Sciences Data and Information Services Center (GES DISC)\n",
        "abstract: None\n",
        "keywords: []\n",
        "access constraints: None\n",
        "contact: None\n",
        "GetCapabilities ( ['application/vnd.ogc.wms_xml'] )\n",
        "\t[{'url': 'http://disc1.sci.gsfc.nasa.gov/daac-bin/wms_trmm?', 'type': 'Get'}, {'url': 'http://disc1.sci.gsfc.nasa.gov/daac-bin/wms_trmm?', 'type': 'Post'}]\n",
        "\n"
       ]
      }
     ],
     "prompt_number": 7
    },
    {
     "cell_type": "code",
     "collapsed": false,
     "input": [
      "# wms 1.3.0\n",
      "with open('notebooks/xmls/wms130.xml', 'r') as f:\n",
      "    wms130 = f.read()\n",
      "\n",
      "wms = WebMapService('', xml=wms130, version='1.3.0')\n",
      "print 'title:', wms.identification.title\n",
      "print 'abstract:', wms.identification.abstract\n",
      "print 'keywords:', wms.identification.keywords\n",
      "print 'access constraints:', wms.identification.accessconstraints\n",
      "print 'contact:', wms.provider.contact.name\n",
      "\n",
      "for op in wms.operations:\n",
      "    print op.name , '(', op.formatOptions, ')'\n",
      "    print '\\t', op.methods\n",
      "    # print '\\t', op.parameters\n",
      "    print ''"
     ],
     "language": "python",
     "metadata": {},
     "outputs": [
      {
       "output_type": "stream",
       "stream": "stdout",
       "text": [
        "title: Initial TDS Installation\n",
        "abstract: Scientific Data\n",
        "keywords: ['meteorology', 'atmosphere', 'climate', 'ocean', 'earth science']\n",
        "access constraints: none\n",
        "contact: Support\n",
        "GetCapabilities ( ['text/xml'] )\n",
        "\t[{'url': 'http://ferret.pmel.noaa.gov/thredds/wms/las/woa05_monthly/data_ferret.pmel.noaa.gov_thredds_dodsC_data_PMEL_WOA05nc_monthly_o0112mn1.nc.jnl', 'type': 'Get'}]\n",
        "\n",
        "GetMap ( ['image/png', 'image/png;mode=32bit', 'image/gif', 'image/jpeg', 'application/vnd.google-earth.kmz'] )\n",
        "\t[{'url': 'http://ferret.pmel.noaa.gov/thredds/wms/las/woa05_monthly/data_ferret.pmel.noaa.gov_thredds_dodsC_data_PMEL_WOA05nc_monthly_o0112mn1.nc.jnl', 'type': 'Get'}]\n",
        "\n",
        "GetFeatureInfo ( ['image/png', 'text/xml'] )\n",
        "\t[{'url': 'http://ferret.pmel.noaa.gov/thredds/wms/las/woa05_monthly/data_ferret.pmel.noaa.gov_thredds_dodsC_data_PMEL_WOA05nc_monthly_o0112mn1.nc.jnl', 'type': 'Get'}]\n",
        "\n"
       ]
      }
     ],
     "prompt_number": 12
    },
    {
     "cell_type": "code",
     "collapsed": false,
     "input": [],
     "language": "python",
     "metadata": {},
     "outputs": [],
     "prompt_number": 4
    },
    {
     "cell_type": "code",
     "collapsed": false,
     "input": [],
     "language": "python",
     "metadata": {},
     "outputs": [],
     "prompt_number": 4
    }
   ],
   "metadata": {}
  }
 ]
}