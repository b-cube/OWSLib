{
 "metadata": {
  "name": "",
  "signature": "sha256:7a2acd8188946f5092b8abce1e39328c387a9eea5977702bc11072c0f01e866e"
 },
 "nbformat": 3,
 "nbformat_minor": 0,
 "worksheets": [
  {
   "cells": [
    {
     "cell_type": "markdown",
     "metadata": {},
     "source": [
      "### Tasks\n",
      "<font color='red'>#</font> Check into OWS Common (ows.py) constraints and verify that it works\n",
      "<font color='red'>#</font> Check on formatOptions for CSW (and OWS Common either way) to see if it really should be hardcoded 'text/xml'"
     ]
    },
    {
     "cell_type": "code",
     "collapsed": false,
     "input": [
      "%reload_ext autoreload\n",
      "%autoreload 2\n",
      "\n",
      "from owslib.csw import CatalogueServiceWeb"
     ],
     "language": "python",
     "metadata": {},
     "outputs": [],
     "prompt_number": 5
    },
    {
     "cell_type": "markdown",
     "metadata": {},
     "source": [
      "Implementing the in-memory xml on init (for local parsing)"
     ]
    },
    {
     "cell_type": "code",
     "collapsed": false,
     "input": [
      "# from the original request\n",
      "csw = CatalogueServiceWeb('http://cwic.wgiss.ceos.org/cwicv1/discovery?service=CSW&request=GetCapabilities&version=2.0.2')\n",
      "csw.identification.title"
     ],
     "language": "python",
     "metadata": {},
     "outputs": [
      {
       "metadata": {},
       "output_type": "pyout",
       "prompt_number": 7,
       "text": [
        "'CEOS WGISS Integrated Catalog (CWIC)'"
       ]
      }
     ],
     "prompt_number": 7
    },
    {
     "cell_type": "code",
     "collapsed": false,
     "input": [
      "# from a file\n",
      "with open('notebooks/xmls/csw202.xml', 'r') as f:\n",
      "    xml = f.read()\n",
      "\n",
      "csw = CatalogueServiceWeb('', xml=xml)\n",
      "\n",
      "# let's see if we can get the bits we need\n",
      "print 'title:', csw.identification.title\n",
      "print 'abstract:', csw.identification.abstract\n",
      "print 'keywords:', csw.identification.keywords\n",
      "print 'access constraints:', csw.identification.accessconstraints\n",
      "print 'contact:', csw.provider.contact.name"
     ],
     "language": "python",
     "metadata": {},
     "outputs": [
      {
       "output_type": "stream",
       "stream": "stdout",
       "text": [
        "title: CEOS WGISS Integrated Catalog (CWIC)\n",
        "abstract: CWIC provides an OGC CSW 2.0.2 - compliant access point for major CEOS agency catalog systems.\n",
        "keywords: ['Committee on Earth Observation Satellites - CEOS', 'CEOS Working Group on Information Systems and Services - CEOS WGISS', 'CEOS WGISS Integrated Catalog - CWIC', 'International Directory Network - IDN', 'OGC Catalogue Service for Web - CSW', 'Earth Observation Satellite Data Catalog', 'Center for Spatial Information Science and Systems - CSISS', 'George Mason University - GMU', 'A/WWW Enterprises']\n",
        "access constraints: NONE\n",
        "contact: Yonsook Enloe, Martin Yapur\n"
       ]
      }
     ],
     "prompt_number": 14
    },
    {
     "cell_type": "code",
     "collapsed": false,
     "input": [
      "for op in csw.operations:\n",
      "    print op.name, '(', op.formatOptions, ')'\n",
      "    print '\\t', op.methods\n",
      "    print '\\t', op.parameters\n",
      "    print ''"
     ],
     "language": "python",
     "metadata": {},
     "outputs": [
      {
       "output_type": "stream",
       "stream": "stdout",
       "text": [
        "GetCapabilities ( ['text/xml'] )\n",
        "\t[{'url': 'http://cwic.wgiss.ceos.org/discovery', 'type': 'Get', 'constraints': []}]\n",
        "\t{'sections': {'values': ['ServiceIdentification', 'ServiceProvider', 'OperationsMetadata', 'Filter_Capabilities']}}\n",
        "\n",
        "DescribeRecord ( ['text/xml'] )\n",
        "\t[{'url': 'http://cwic.wgiss.ceos.org/discovery', 'type': 'Get', 'constraints': []}]\n",
        "\t{'typeName': {'values': ['csw:Record', 'gmd:MD_Metadata']}, 'outputFormat': {'values': ['application/xml']}, 'schemaLanguage': {'values': ['XMLSCHEMA']}}\n",
        "\n",
        "GetRecords ( ['text/xml'] )\n",
        "\t[{'url': 'http://cwic.wgiss.ceos.org/discovery', 'type': 'Post', 'constraints': []}]\n",
        "\t{'outputFormat': {'values': ['application/xml']}, 'outputSchema': {'values': ['http://www.opengis.net/cat/csw/2.0.2', 'http://www.isotc211.org/2005/gmd']}, 'CONSTRAINTLANGUAGE': {'values': ['Filter']}, 'resultType': {'values': ['hits', 'results']}, 'TypeName': {'values': ['csw:Record', 'gmd:MD_Metadata']}, 'ElementSetName': {'values': ['brief', 'summary', 'full']}}\n",
        "\n",
        "GetRecordById ( ['text/xml'] )\n",
        "\t[{'url': 'http://cwic.wgiss.ceos.org/discovery', 'type': 'Get', 'constraints': []}, {'url': 'http://cwic.wgiss.ceos.org/discovery', 'type': 'Post', 'constraints': []}]\n",
        "\t{'outputSchema': {'values': ['http://www.opengis.net/cat/csw/2.0.2', 'http://www.isotc211.org/2005/gmd']}, 'ElementSetName': {'values': ['brief', 'summary', 'full']}}\n",
        "\n"
       ]
      }
     ],
     "prompt_number": 16
    },
    {
     "cell_type": "markdown",
     "metadata": {},
     "source": [
      "OWS Common: is the formatOption a viable element? (should it be hardcoded at all or not for CSW?)\n",
      "GetRecords: has a set of constraints (two elements, both with enums) but that isn't reflected here."
     ]
    }
   ],
   "metadata": {}
  }
 ]
}