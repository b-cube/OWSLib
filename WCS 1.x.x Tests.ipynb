{
 "metadata": {
  "name": "",
  "signature": "sha256:b2bea5bdaf2e4d4d81c256d4332549091e81f6d80a7dfd00d5a2cd830e1c3957"
 },
 "nbformat": 3,
 "nbformat_minor": 0,
 "worksheets": [
  {
   "cells": [
    {
     "cell_type": "markdown",
     "metadata": {},
     "source": [
      "## Tasks\n",
      "\n",
      "<font color='red'>#</font> accessConstraints instead of accessconstraints (standardize across all)\n",
      "<font color='red'>#</font> WCS 1.0.0 - no operation parameters (verify in spec)\n",
      "<font color='red'>#</font> WCS 1.1.0 not functional file/url. Metadata entries are all none or empty."
     ]
    },
    {
     "cell_type": "code",
     "collapsed": false,
     "input": [
      "%reload_ext autoreload\n",
      "%autoreload 2\n",
      "\n",
      "from owslib.wcs import WebCoverageService"
     ],
     "language": "python",
     "metadata": {},
     "outputs": [],
     "prompt_number": 1
    },
    {
     "cell_type": "code",
     "collapsed": false,
     "input": [
      "# wcs 1.0.0\n",
      "with open('notebooks/xmls/wcs100.xml', 'r') as f:\n",
      "    xml = f.read()\n",
      "\n",
      "wcs100 = WebCoverageService('', xml=xml, version='1.0.0')\n",
      "\n",
      "print 'title:', wcs100.identification.title\n",
      "print 'abstract:', wcs100.identification.abstract\n",
      "print 'keywords:', wcs100.identification.keywords\n",
      "print 'access constraints:', wcs100.identification.accessConstraints\n",
      "print 'contact:', wcs100.provider.contact.name\n",
      "\n",
      "for op in wcs100.operations:\n",
      "    print op.name #, '(', op.formatOptions, ')'\n",
      "    print '\\t', op.methods\n",
      "    # print '\\t', op.parameters\n",
      "    print ''"
     ],
     "language": "python",
     "metadata": {},
     "outputs": [
      {
       "output_type": "stream",
       "stream": "stdout",
       "text": [
        "title: GMU LAITS Web Coverage Server\n",
        "abstract: GeoBrain Web Coverage Server for DEM data\n",
        "keywords: ['GMU LAITS GeoBrain WCS DEM']\n",
        "access constraints: NONE\n",
        "contact: Liping Di\n",
        "GetCapabilities\n",
        "\t[{'url': 'http://geobrain.laits.gmu.edu/cgi-bin/gbwcs-dem?', 'type': 'Get'}, {'url': 'http://geobrain.laits.gmu.edu/cgi-bin/gbwcs-dem?', 'type': 'Post'}]\n",
        "\n",
        "DescribeCoverage\n",
        "\t[{'url': 'http://geobrain.laits.gmu.edu/cgi-bin/gbwcs-dem?', 'type': 'Get'}, {'url': 'http://geobrain.laits.gmu.edu/cgi-bin/gbwcs-dem?', 'type': 'Post'}]\n",
        "\n",
        "GetCoverage\n",
        "\t[{'url': 'http://geobrain.laits.gmu.edu/cgi-bin/gbwcs-dem?', 'type': 'Get'}, {'url': 'http://geobrain.laits.gmu.edu/cgi-bin/gbwcs-dem?', 'type': 'Post'}]\n",
        "\n"
       ]
      }
     ],
     "prompt_number": 6
    },
    {
     "cell_type": "markdown",
     "metadata": {},
     "source": [
      "WCS 1.0.0 Notes\n",
      "- no formatOptions for this version at all\n",
      "- no parameters either"
     ]
    },
    {
     "cell_type": "code",
     "collapsed": false,
     "input": [
      "# wcs 1.1.0 (do not have a valid example of this and \n",
      "# there isn't one in the repo!)\n",
      "# see the wcs111.xml example from here:\n",
      "# http://ogi.state.ok.us/geoserver/wcs?VERSION=1.1.0&REQUEST=GetCapabilities&SERVICE=WCS\n",
      "\n",
      "# try the url\n",
      "wcs110 = WebCoverageService('http://ogi.state.ok.us/geoserver/wcs?VERSION=1.1.0&REQUEST=GetCapabilities&SERVICE=WCS', version='1.1.0')\n",
      "\n",
      "print 'title:', wcs110.identification.title\n",
      "print 'abstract:', wcs110.identification.abstract\n",
      "print 'keywords:', wcs110.identification.keywords\n",
      "print 'access constraints:', wcs110.identification.accessConstraints\n",
      "print 'contact:', wcs110.provider.contact.name\n",
      "\n",
      "for op in wcs110.operations:\n",
      "    print op.name , '(', op.formatOptions, ')'\n",
      "    print '\\t', op.methods\n",
      "    print '\\t', op.parameters\n",
      "    print ''"
     ],
     "language": "python",
     "metadata": {},
     "outputs": [
      {
       "output_type": "stream",
       "stream": "stdout",
       "text": [
        "title: None\n",
        "abstract: None\n",
        "keywords: []\n",
        "access constraints: None\n",
        "contact: None\n"
       ]
      }
     ],
     "prompt_number": 8
    },
    {
     "cell_type": "markdown",
     "metadata": {},
     "source": [
      "Well okay then. That's not correct at all - there are text values for the metadata and there are certainly operations."
     ]
    },
    {
     "cell_type": "code",
     "collapsed": false,
     "input": [
      "# so try the file\n",
      "with open('notebooks/xmls/wcs111.xml', 'r') as f:\n",
      "    xml = f.read()\n",
      "\n",
      "wcs110f = WebCoverageService('', xml=xml, version='1.1.0')\n",
      "\n",
      "print 'title:', wcs110f.identification.title\n",
      "print 'abstract:', wcs110f.identification.abstract\n",
      "print 'keywords:', wcs110f.identification.keywords\n",
      "print 'access constraints:', wcs110f.identification.accessConstraints\n",
      "print 'contact:', wcs110f.provider.contact.name\n",
      "\n",
      "for op in wcs110f.operations:\n",
      "    print op.name , '(', op.formatOptions, ')'\n",
      "    print '\\t', op.methods\n",
      "    print '\\t', op.parameters\n",
      "    print ''"
     ],
     "language": "python",
     "metadata": {},
     "outputs": [
      {
       "output_type": "stream",
       "stream": "stdout",
       "text": [
        "title: None\n",
        "abstract: None\n",
        "keywords: []\n",
        "access constraints: None\n",
        "contact: None\n"
       ]
      }
     ],
     "prompt_number": 11
    },
    {
     "cell_type": "markdown",
     "metadata": {},
     "source": [
      "So that's still no good. There might be an existing branch? We should check on that."
     ]
    },
    {
     "cell_type": "code",
     "collapsed": false,
     "input": [
      "# wcs 1.1.2 (not supported, not going to bother until it is)"
     ],
     "language": "python",
     "metadata": {},
     "outputs": []
    }
   ],
   "metadata": {}
  }
 ]
}