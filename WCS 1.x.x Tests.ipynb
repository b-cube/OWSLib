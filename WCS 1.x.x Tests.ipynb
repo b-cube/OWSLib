{
 "metadata": {
  "name": "",
  "signature": "sha256:cdeca64e7f54e9db7fc273eb80cfb9e84eb06535cc6162f850683427c4fb775c"
 },
 "nbformat": 3,
 "nbformat_minor": 0,
 "worksheets": [
  {
   "cells": [
    {
     "cell_type": "markdown",
     "metadata": {},
     "source": [
      "## Tasks\n",
      "\n",
      "<font color='red'>#</font> accessConstraints instead of accessconstraints (standardize across all)\n",
      "<font color='red'>#</font> WCS 1.0.0 - no operation parameters (verify in spec)\n",
      "<font color='red'>#</font> WCS 1.1.0 not functional file/url. Metadata entries are all none or empty."
     ]
    },
    {
     "cell_type": "code",
     "collapsed": false,
     "input": [
      "%reload_ext autoreload\n",
      "%autoreload 2\n",
      "\n",
      "from owslib.wcs import WebCoverageService"
     ],
     "language": "python",
     "metadata": {},
     "outputs": [],
     "prompt_number": 202
    },
    {
     "cell_type": "code",
     "collapsed": false,
     "input": [
      "# wcs 1.0.0\n",
      "with open('notebooks/xmls/wcs100.xml', 'r') as f:\n",
      "    xml = f.read()\n",
      "\n",
      "wcs100 = WebCoverageService('', xml=xml, version='1.0.0')\n",
      "\n",
      "print 'title:', wcs100.identification.title\n",
      "print 'abstract:', wcs100.identification.abstract\n",
      "print 'keywords:', wcs100.identification.keywords\n",
      "print 'access constraints:', wcs100.identification.accessConstraints\n",
      "print 'contact:', wcs100.provider.contact.name\n",
      "\n",
      "for op in wcs100.operations:\n",
      "    print op.name #, '(', op.formatOptions, ')'\n",
      "    print '\\t', op.methods\n",
      "    # print '\\t', op.parameters\n",
      "    print ''"
     ],
     "language": "python",
     "metadata": {},
     "outputs": [
      {
       "output_type": "stream",
       "stream": "stdout",
       "text": [
        "title: GMU LAITS Web Coverage Server\n",
        "abstract: GeoBrain Web Coverage Server for DEM data\n",
        "keywords: ['GMU LAITS GeoBrain WCS DEM']\n",
        "access constraints: NONE\n",
        "contact: Liping Di\n",
        "GetCapabilities\n",
        "\t[{'url': 'http://geobrain.laits.gmu.edu/cgi-bin/gbwcs-dem?', 'type': 'Get'}, {'url': 'http://geobrain.laits.gmu.edu/cgi-bin/gbwcs-dem?', 'type': 'Post'}]\n",
        "\n",
        "DescribeCoverage\n",
        "\t[{'url': 'http://geobrain.laits.gmu.edu/cgi-bin/gbwcs-dem?', 'type': 'Get'}, {'url': 'http://geobrain.laits.gmu.edu/cgi-bin/gbwcs-dem?', 'type': 'Post'}]\n",
        "\n",
        "GetCoverage\n",
        "\t[{'url': 'http://geobrain.laits.gmu.edu/cgi-bin/gbwcs-dem?', 'type': 'Get'}, {'url': 'http://geobrain.laits.gmu.edu/cgi-bin/gbwcs-dem?', 'type': 'Post'}]\n",
        "\n"
       ]
      }
     ],
     "prompt_number": 203
    },
    {
     "cell_type": "markdown",
     "metadata": {},
     "source": [
      "WCS 1.0.0 Notes\n",
      "- no formatOptions for this version at all\n",
      "- no parameters either"
     ]
    },
    {
     "cell_type": "code",
     "collapsed": false,
     "input": [
      "# wcs 1.1.0 (do not have a valid example of this and \n",
      "# there isn't one in the repo!)\n",
      "# see the wcs111.xml example from here:\n",
      "# http://ogi.state.ok.us/geoserver/wcs?VERSION=1.1.0&REQUEST=GetCapabilities&SERVICE=WCS\n",
      "\n",
      "# try the url\n",
      "wcs110 = WebCoverageService('http://ogi.state.ok.us/geoserver/wcs?VERSION=1.1.0&REQUEST=GetCapabilities&SERVICE=WCS', version='1.1.0')\n",
      "\n",
      "print 'title:', wcs110.identification.title\n",
      "print 'abstract:', wcs110.identification.abstract\n",
      "print 'keywords:', wcs110.identification.keywords\n",
      "print 'access constraints:', wcs110.identification.accessConstraints\n",
      "print 'contact:', wcs110.provider.contact.name\n",
      "\n",
      "for op in wcs110.operations:\n",
      "    print op.name , '(', op.formatOptions, ')'\n",
      "    print '\\t', op.methods\n",
      "    print '\\t', op.parameters\n",
      "    print ''"
     ],
     "language": "python",
     "metadata": {},
     "outputs": [
      {
       "output_type": "stream",
       "stream": "stdout",
       "text": [
        "title: Web Coverage Service\n",
        "abstract: This server implements the WCS specification 1.0 and 1.1.1, it's reference implementation of WCS 1.1.1. All layers published by this service are available on WMS also.\n",
        "keywords: ['WCS', 'WMS', 'GEOSERVER']\n",
        "access constraints: NONE\n",
        "contact: Mike Sharp\n",
        "GetCapabilities ( [] )\n",
        "\t[{'url': 'http://204.62.18.179:8080/geoserver/wcs?', 'type': 'Get'}, {'url': 'http://204.62.18.179:8080/geoserver/wcs?', 'type': 'Post'}]\n",
        "\t{}\n",
        "\n",
        "DescribeCoverage ( [] )\n",
        "\t[{'url': 'http://204.62.18.179:8080/geoserver/wcs?', 'type': 'Get'}, {'url': 'http://204.62.18.179:8080/geoserver/wcs?', 'type': 'Post'}]\n",
        "\t{}\n",
        "\n",
        "GetCoverage ( [] )\n",
        "\t[{'url': 'http://204.62.18.179:8080/geoserver/wcs?', 'type': 'Get'}, {'url': 'http://204.62.18.179:8080/geoserver/wcs?', 'type': 'Post'}]\n",
        "\t{'store': {'values': ['True', 'False']}}\n",
        "\n"
       ]
      }
     ],
     "prompt_number": 204
    },
    {
     "cell_type": "markdown",
     "metadata": {},
     "source": [
      "Well okay then. That's not correct at all - there are text values for the metadata and there are certainly operations."
     ]
    },
    {
     "cell_type": "code",
     "collapsed": false,
     "input": [
      "#from owslib.coverage.wcsBase import WCSBase, WCSCapabilitiesReader, ServiceException\n",
      "#from owslib.coverage.wcs110 import ns, findall, find\n",
      "\n",
      "# so try the file\n",
      "with open('notebooks/xmls/wcs111.xml', 'r') as f:\n",
      "    xml = f.read()\n",
      "\n",
      "wcs111 = WebCoverageService('', xml=xml, version='1.1.1')\n",
      "\n",
      "print 'title:', wcs111.identification.title\n",
      "print 'abstract:', wcs111.identification.abstract\n",
      "print 'keywords:', wcs111.identification.keywords\n",
      "print 'access constraints:', wcs111.identification.accessConstraints\n",
      "print 'contact:', wcs111.provider.contact.name\n",
      "\n",
      "for op in wcs111.operations:\n",
      "    print op.name , '(', op.formatOptions, ')'\n",
      "    print '\\t', op.methods\n",
      "    print '\\t', op.parameters\n",
      "    print '\\t', op.constraints\n",
      "    print ''\n",
      "\n",
      "contents = wcs111.contents\n",
      "print contents\n",
      "\n",
      "test_key = contents.keys()[1]\n",
      "print contents[test_key].title\n",
      "print contents[test_key].keywords\n",
      "print contents[test_key].boundingBoxWGS84"
     ],
     "language": "python",
     "metadata": {},
     "outputs": [
      {
       "output_type": "stream",
       "stream": "stdout",
       "text": [
        "title: Web Coverage Service\n",
        "abstract: This server implements the WCS specification 1.0 and 1.1.1, it's reference implementation of WCS 1.1.1. All layers published by this service are available on WMS also.\n",
        "keywords: ['WCS', 'WMS', 'GEOSERVER']\n",
        "access constraints: NONE\n",
        "contact: Mike Sharp\n",
        "GetCapabilities ( [] )\n",
        "\t[{'url': 'http://204.62.18.179:8080/geoserver/wcs?', 'type': 'Get'}, {'url': 'http://204.62.18.179:8080/geoserver/wcs?', 'type': 'Post'}]\n",
        "\t{}\n",
        "\t[{'PostEncoding': {'values': ['XML']}}]\n",
        "\n",
        "DescribeCoverage ( [] )\n",
        "\t[{'url': 'http://204.62.18.179:8080/geoserver/wcs?', 'type': 'Get'}, {'url': 'http://204.62.18.179:8080/geoserver/wcs?', 'type': 'Post'}]\n",
        "\t{}\n",
        "\t[{'PostEncoding': {'values': ['XML']}}]\n",
        "\n",
        "GetCoverage ( [] )\n",
        "\t[{'url': 'http://204.62.18.179:8080/geoserver/wcs?', 'type': 'Get'}, {'url': 'http://204.62.18.179:8080/geoserver/wcs?', 'type': 'Post'}]\n",
        "\t{'store': {'values': ['True', 'False']}}\n",
        "\t[{'PostEncoding': {'values': ['XML']}}]\n",
        "\n",
        "{'okhill': <owslib.coverage.wcs110.ContentMetadata object at 0x103a26310>, 'OK_City_2008_One_Foot': <owslib.coverage.wcs110.ContentMetadata object at 0x103a26b10>, 'NRCS_DEM_BARE_EARTH_DegreeOverviews': <owslib.coverage.wcs110.ContentMetadata object at 0x103a266d0>, 'NRCS_DEM_BARE_EARTH_HILLSHADE': <owslib.coverage.wcs110.ContentMetadata object at 0x103a26750>, 'ok_24K_DRG_Mosaic': <owslib.coverage.wcs110.ContentMetadata object at 0x103a26cd0>, 'NAIP2010_Statewide_DegreeOverviews': <owslib.coverage.wcs110.ContentMetadata object at 0x103a26550>, 'NRCS_DEM_FIRST_RETURN_HILLSHADE_DegreeOverviews': <owslib.coverage.wcs110.ContentMetadata object at 0x103a26a90>, 'NRCS_DEM_FIRST_RETURN_HILLSHADE': <owslib.coverage.wcs110.ContentMetadata object at 0x103a26a10>, 'NAIP2008_Statewide_DegreeOverviews': <owslib.coverage.wcs110.ContentMetadata object at 0x103a26450>, 'DEM10Blue': <owslib.coverage.wcs110.ContentMetadata object at 0x103a26190>, 'NAIP2008_Statewide': <owslib.coverage.wcs110.ContentMetadata object at 0x103a263d0>, 'NAIP2010_Statewide': <owslib.coverage.wcs110.ContentMetadata object at 0x103a264d0>, 'bethany2010': <owslib.coverage.wcs110.ContentMetadata object at 0x103a26890>, 'NAIP2013_Statewide': <owslib.coverage.wcs110.ContentMetadata object at 0x103a265d0>, 'NRCS_DEM_FIRST_RETURN': <owslib.coverage.wcs110.ContentMetadata object at 0x103a26850>, 'NRCS_DEM_BARE_EARTH': <owslib.coverage.wcs110.ContentMetadata object at 0x103a26650>, 'NRCS_DEM_FIRST_RETURN_DegreeOverviews': <owslib.coverage.wcs110.ContentMetadata object at 0x103a26090>, 'NRCS_DEM_BARE_EARTH_HILLSHADE_DegreeOverviews': <owslib.coverage.wcs110.ContentMetadata object at 0x103a267d0>, 'NAIP2008': <owslib.coverage.wcs110.ContentMetadata object at 0x103a26210>}\n",
        "OK_City_2008_One_Foot\n",
        "['WCS', 'ImageMosaic', 'OK_City_2008_One_Foot']\n",
        "(-97.813, 35.188, -97.188, 35.813)\n"
       ]
      }
     ],
     "prompt_number": 205
    },
    {
     "cell_type": "markdown",
     "metadata": {},
     "source": [
      "So that's still no good. There might be an existing branch? We should check on that."
     ]
    },
    {
     "cell_type": "code",
     "collapsed": false,
     "input": [
      "# wcs 1.1.2 (not supported, not going to bother until it is)\n",
      "\n",
      "with open('notebooks/xmls/wcs112.xml', 'r') as f:\n",
      "    xml = f.read()\n",
      "\n",
      "wcs112 = WebCoverageService('', xml=xml, version='1.1.2')\n",
      "\n",
      "print 'title:', wcs112.identification.title\n",
      "print 'abstract:', wcs112.identification.abstract\n",
      "print 'keywords:', wcs112.identification.keywords\n",
      "print 'access constraints:', wcs112.identification.accessConstraints\n",
      "print 'contact:', wcs112.provider.contact.name\n",
      "\n",
      "for op in wcs112.operations:\n",
      "    print op.name , '(', op.formatOptions, ')'\n",
      "    print '\\t', op.methods\n",
      "    print '\\t', op.parameters\n",
      "    print '\\t', op.constraints\n",
      "    print ''"
     ],
     "language": "python",
     "metadata": {},
     "outputs": [
      {
       "output_type": "stream",
       "stream": "stdout",
       "text": [
        "title: DataAtlas_NCDC_SeaWinds_Fall\n",
        "abstract: None\n",
        "keywords: []\n",
        "access constraints: None\n",
        "contact: None\n",
        "GetCapabilities ( [] )\n",
        "\t[{'url': 'http://www.ncddc.noaa.gov/arcgis/services/DataAtlas/NCDC_SeaWinds_Fall/MapServer/WCSServer', 'type': 'Get'}, {'url': 'http://www.ncddc.noaa.gov/arcgis/services/DataAtlas/NCDC_SeaWinds_Fall/MapServer/WCSServer', 'type': 'Post'}]\n",
        "\t{'AcceptVersions': {'values': ['1.0.0', '1.1.0', '1.1.1', '1.1.2']}, 'service': {'values': ['WCS']}}\n",
        "\t[]\n",
        "\n",
        "DescribeCoverage ( [] )\n",
        "\t[{'url': 'http://www.ncddc.noaa.gov/arcgis/services/DataAtlas/NCDC_SeaWinds_Fall/MapServer/WCSServer', 'type': 'Get'}, {'url': 'http://www.ncddc.noaa.gov/arcgis/services/DataAtlas/NCDC_SeaWinds_Fall/MapServer/WCSServer', 'type': 'Post'}]\n",
        "\t{'Identifier': {'values': ['1']}, 'version': {'values': ['1.0.0', '1.1.0', '1.1.1', '1.1.2']}, 'service': {'values': ['WCS']}}\n",
        "\t[]\n",
        "\n",
        "GetCoverage ( [] )\n",
        "\t[{'url': 'http://www.ncddc.noaa.gov/arcgis/services/DataAtlas/NCDC_SeaWinds_Fall/MapServer/WCSServer', 'type': 'Get'}, {'url': 'http://www.ncddc.noaa.gov/arcgis/services/DataAtlas/NCDC_SeaWinds_Fall/MapServer/WCSServer', 'type': 'Post'}]\n",
        "\t{'service': {'values': ['WCS']}, 'format': {'values': ['image/GeoTIFF', 'image/NITF', 'image/JPEG', 'image/PNG', 'image/JPEG2000', 'image/HDF']}, 'version': {'values': ['1.0.0', '1.1.0', '1.1.1', '1.1.2']}, 'Identifier': {'values': ['1']}, 'InterpolationType': {'values': ['nearest', 'bilinear', 'bicubic']}, 'store': {'values': ['False', 'True']}}\n",
        "\t[]\n",
        "\n"
       ]
      }
     ],
     "prompt_number": 206
    },
    {
     "cell_type": "code",
     "collapsed": false,
     "input": [
      "#see what happens with the coverage summaries\n",
      "contents = wcs112.contents\n",
      "print contents\n",
      "\n",
      "print contents['1'].title\n",
      "print contents['1'].keywords\n",
      "print contents['1'].boundingBoxWGS84"
     ],
     "language": "python",
     "metadata": {},
     "outputs": [
      {
       "output_type": "stream",
       "stream": "stdout",
       "text": [
        "{'1': <owslib.coverage.wcs110.ContentMetadata object at 0x103a2cc90>}\n",
        "Wind Speed_1\n",
        "[]\n",
        "(-99.30729975386576, 16.84921710611556, -79.16820453576456, 31.096007533496138)\n"
       ]
      }
     ],
     "prompt_number": 207
    },
    {
     "cell_type": "code",
     "collapsed": false,
     "input": [
      "from lxml import etree\n",
      "\n",
      "# quick nested coveragesummary checks \n",
      "\n",
      "text = '''<?xml version=\"1.0\" encoding=\"UTF-8\"?>\n",
      "<Capabilities>\n",
      "    <Contents>\n",
      "       <CoverageSummary>\n",
      "           <Title>Wind Speed_1</Title>\n",
      "           <Abstract>Gridded, high resolution ocean surface vector winds and wind stresses on a global 0.25\u00b0 grid.  This is the seasonal fall average of wind speeds from 1990 to 2010. Speeds are recorded in meters per second.</Abstract>\n",
      "           <Keywords>\n",
      "               <Keyword>Place</Keyword>\n",
      "               <Keyword>Theme</Keyword>\n",
      "           </Keywords>\n",
      "           <Metadata>some metadata</Metadata>\n",
      "           <WGS84BoundingBox>\n",
      "               <LowerCorner>-99.307299753865763 16.84921710611556</LowerCorner>\n",
      "               <UpperCorner>-79.168204535764559 31.096007533496138</UpperCorner>\n",
      "           </WGS84BoundingBox>\n",
      "           \n",
      "           <CoverageSummary>\n",
      "               <Title>Level 1</Title>\n",
      "               <Abstract>The first level</Abstract>\n",
      "               <Keywords>\n",
      "                   <Keyword>Boulder</Keyword>\n",
      "                   <Keyword>Colorado</Keyword>\n",
      "               </Keywords>\n",
      "               <Metadata>some metadata</Metadata>\n",
      "               <WGS84BoundingBox>\n",
      "                   <LowerCorner>-99.307299753865763 16.84921710611556</LowerCorner>\n",
      "                   <UpperCorner>-79.168204535764559 31.096007533496138</UpperCorner>\n",
      "               </WGS84BoundingBox>\n",
      "               \n",
      "               <CoverageSummary>\n",
      "                   <Title>Level 2</Title>\n",
      "                   <Abstract>The second level</Abstract>\n",
      "                   <Keywords>\n",
      "                       <Keyword>Rocket Science</Keyword>\n",
      "                   </Keywords>\n",
      "                   <WGS84BoundingBox>\n",
      "                       <LowerCorner>0.00 0.00</LowerCorner>\n",
      "                       <UpperCorner>0.00 0.00</UpperCorner>\n",
      "                   </WGS84BoundingBox>\n",
      "                   <SupportedCRS>EPSG:4326</SupportedCRS>\n",
      "                   <Identifier>3</Identifier>\n",
      "               </CoverageSummary>\n",
      "               <Identifier>2</Identifier>\n",
      "           </CoverageSummary>\n",
      "           <Identifier>1</Identifier>\n",
      "       </CoverageSummary>\n",
      "       <CoverageSummary>\n",
      "           <Title>Level 1: The Return</Title>\n",
      "           <Abstract>The first level repeater</Abstract>\n",
      "           <Keywords>\n",
      "               <Keyword>Oceans</Keyword>\n",
      "           </Keywords>\n",
      "           <WGS84BoundingBox>\n",
      "               <LowerCorner>0.00 0.00</LowerCorner>\n",
      "               <UpperCorner>0.00 0.00</UpperCorner>\n",
      "           </WGS84BoundingBox>\n",
      "           <SupportedCRS>EPSG:4326</SupportedCRS>\n",
      "           <Identifier>4</Identifier>\n",
      "       </CoverageSummary>\n",
      "    </Contents>\n",
      "</Capabilities>'''\n",
      "\n",
      "xml = etree.fromstring(text)\n",
      "\n",
      "def build_coverage_xpaths(num_tags, identifier):\n",
      "    if num_tags <= 1:\n",
      "        return []\n",
      "    \n",
      "    xps = []\n",
      "    for i in xrange(1, num_tags):\n",
      "        # wow.\n",
      "        the_start = '/*/*[local-name()=\"Contents\"]/' + '/'.join(['*[local-name()=\"CoverageSummary\"]']*(num_tags-i))\n",
      "        the_end = '[' + '/'.join(['*[local-name()=\"CoverageSummary\"]']*i + \n",
      "                                    ['/*[local-name()=\"Identifier\" and text()=\"%s\"]]/*[local-name()=\"Keywords\"]/*[local-name()=\"Keyword\"]' % identifier])\n",
      "        xps.append(the_start + the_end) \n",
      "    return xps\n",
      "\n",
      "xp = '/*/Contents//CoverageSummary'\n",
      "for elem in xml.xpath(xp):\n",
      "    title = elem.find('Title').text\n",
      "    abstract = elem.find('Abstract').text\n",
      "    identifier = elem.find('Identifier').text\n",
      "    keywords = [k.text for k in elem.findall('Keywords/Keyword')]\n",
      "    \n",
      "    tags = [elem.tag] + [e.tag for e in elem.iterancestors() if e.tag in ['CoverageSummary']]\n",
      "    key_xpaths = build_coverage_xpaths(len(tags), identifier) if tags else []\n",
      "    print key_xpaths\n",
      "    all_keywords = keywords + ([k.text for k in xml.xpath(' | '.join(key_xpaths))] if key_xpaths else [])\n",
      "    \n",
      "#     '/*/Contents/CoverageSummary/CoverageSummary/CoverageSummary[Identifier=\"\"]/Keywords/Keyword'\n",
      "#     '/*/Contents/CoverageSummary/CoverageSummary[CoverageSummary/Identifier=\"\"]/Keywords/Keyword'\n",
      "#     '/*/Contents/CoverageSummary[CoverageSummary/CoverageSummary/Identifier=\"\"]/Keywords/Keyword'\n",
      "\n",
      "    print identifier, all_keywords\n",
      "    \n",
      "\n",
      "# super.\n",
      "# we need to concat the keywords up through the parents? apparently.\n",
      "# and also the identifier might not be from the current node so that's fantastic"
     ],
     "language": "python",
     "metadata": {},
     "outputs": [
      {
       "output_type": "stream",
       "stream": "stdout",
       "text": [
        "[]\n",
        "1 ['Place', 'Theme']\n",
        "['/*/*[local-name()=\"Contents\"]/*[local-name()=\"CoverageSummary\"][*[local-name()=\"CoverageSummary\"]//*[local-name()=\"Identifier\" and text()=\"2\"]]/*[local-name()=\"Keywords\"]/*[local-name()=\"Keyword\"]']\n",
        "2 ['Boulder', 'Colorado', 'Place', 'Theme']\n",
        "['/*/*[local-name()=\"Contents\"]/*[local-name()=\"CoverageSummary\"]/*[local-name()=\"CoverageSummary\"][*[local-name()=\"CoverageSummary\"]//*[local-name()=\"Identifier\" and text()=\"3\"]]/*[local-name()=\"Keywords\"]/*[local-name()=\"Keyword\"]', '/*/*[local-name()=\"Contents\"]/*[local-name()=\"CoverageSummary\"][*[local-name()=\"CoverageSummary\"]/*[local-name()=\"CoverageSummary\"]//*[local-name()=\"Identifier\" and text()=\"3\"]]/*[local-name()=\"Keywords\"]/*[local-name()=\"Keyword\"]']\n",
        "3 ['Rocket Science', 'Place', 'Theme', 'Boulder', 'Colorado']\n",
        "[]\n",
        "4 ['Oceans']\n"
       ]
      }
     ],
     "prompt_number": 208
    },
    {
     "cell_type": "code",
     "collapsed": false,
     "input": [
      "from owslib.coverage.wcs110 import ns, findall, find\n",
      "\n",
      "# let's check for a child/parent identifier widget\n",
      "elem = xml.xpath('/*/Contents//CoverageSummary[Identifier=\"3\"]')[0]\n",
      "# we can have 2 or 1 from this elem but are returning the first element from the list\n",
      "ids = find(elem, '*[local-name()=\"Identifier\"] | ../*[local-name()=\"Identifier\"]')\n",
      "#[i.text for i in ids]\n",
      "ids.text"
     ],
     "language": "python",
     "metadata": {},
     "outputs": [
      {
       "metadata": {},
       "output_type": "pyout",
       "prompt_number": 209,
       "text": [
        "'3'"
       ]
      }
     ],
     "prompt_number": 209
    },
    {
     "cell_type": "code",
     "collapsed": false,
     "input": [
      "# nuts\n",
      "keys = findall(elem, '../../*[local-name()=\"Keywords\"]/*[local-name()=\"Keyword\"] | ../*[local-name()=\"Keywords\"]/*[local-name()=\"Keyword\"] | *[local-name()=\"Keywords\"]/*[local-name()=\"Keyword\"]')\n",
      "tags = [elem.tag] + [e.tag for e in elem.iterancestors() if e.tag == 'CoverageSummary']\n",
      "print tags\n",
      "[k.text for k in keys]\n",
      "\n",
      "xpaths = []\n",
      "for i in xrange(len(tags)):\n",
      "    print '/'.join(['..']*i +['Keywords','Keyword'])\n"
     ],
     "language": "python",
     "metadata": {},
     "outputs": [
      {
       "output_type": "stream",
       "stream": "stdout",
       "text": [
        "['CoverageSummary', 'CoverageSummary', 'CoverageSummary']\n",
        "Keywords/Keyword\n",
        "../Keywords/Keyword\n",
        "../../Keywords/Keyword\n"
       ]
      }
     ],
     "prompt_number": 210
    },
    {
     "cell_type": "code",
     "collapsed": false,
     "input": [
      "x = '/' + ns('*/Contents') + '//' + ns('CoverageSummary')\n",
      "print x\n",
      "for elem in findall(wcs112._capabilities, x):\n",
      "    print elem.tag"
     ],
     "language": "python",
     "metadata": {},
     "outputs": [
      {
       "output_type": "stream",
       "stream": "stdout",
       "text": [
        "/*/*[local-name()=\"Contents\"]//*[local-name()=\"CoverageSummary\"]\n",
        "{http://www.opengis.net/wcs/1.1}CoverageSummary\n"
       ]
      }
     ],
     "prompt_number": 211
    },
    {
     "cell_type": "code",
     "collapsed": false,
     "input": [],
     "language": "python",
     "metadata": {},
     "outputs": [],
     "prompt_number": 211
    }
   ],
   "metadata": {}
  }
 ]
}