{
 "metadata": {
  "name": "",
  "signature": "sha256:36dac9cd0a72eb8ab6e5185424858c49b6d5112dc3703e99fc6b1dc01bc278e2"
 },
 "nbformat": 3,
 "nbformat_minor": 0,
 "worksheets": [
  {
   "cells": [
    {
     "cell_type": "markdown",
     "metadata": {},
     "source": [
      "## Tasks\n",
      "\n",
      "<font color='red'>#</font> accessConstraints instead of accessconstraints (standardize across all)\n",
      "<font color='red'>#</font> WCS 1.0.0 - no operation parameters (verify in spec)\n",
      "<font color='red'>#</font> WCS 1.1.0 not functional file/url. Metadata entries are all none or empty."
     ]
    },
    {
     "cell_type": "code",
     "collapsed": false,
     "input": [
      "%reload_ext autoreload\n",
      "%autoreload 2\n",
      "\n",
      "from owslib.wcs import WebCoverageService"
     ],
     "language": "python",
     "metadata": {},
     "outputs": [],
     "prompt_number": 35
    },
    {
     "cell_type": "code",
     "collapsed": false,
     "input": [
      "# wcs 1.0.0\n",
      "with open('notebooks/xmls/wcs100.xml', 'r') as f:\n",
      "    xml = f.read()\n",
      "\n",
      "wcs100 = WebCoverageService('', xml=xml, version='1.0.0')\n",
      "\n",
      "print 'title:', wcs100.identification.title\n",
      "print 'abstract:', wcs100.identification.abstract\n",
      "print 'keywords:', wcs100.identification.keywords\n",
      "print 'access constraints:', wcs100.identification.accessConstraints\n",
      "print 'contact:', wcs100.provider.contact.name\n",
      "\n",
      "for op in wcs100.operations:\n",
      "    print op.name #, '(', op.formatOptions, ')'\n",
      "    print '\\t', op.methods\n",
      "    # print '\\t', op.parameters\n",
      "    print ''"
     ],
     "language": "python",
     "metadata": {},
     "outputs": [
      {
       "output_type": "stream",
       "stream": "stdout",
       "text": [
        "title: GMU LAITS Web Coverage Server\n",
        "abstract: GeoBrain Web Coverage Server for DEM data\n",
        "keywords: ['GMU LAITS GeoBrain WCS DEM']\n",
        "access constraints: NONE\n",
        "contact: Liping Di\n",
        "GetCapabilities\n",
        "\t[{'url': 'http://geobrain.laits.gmu.edu/cgi-bin/gbwcs-dem?', 'type': 'Get'}, {'url': 'http://geobrain.laits.gmu.edu/cgi-bin/gbwcs-dem?', 'type': 'Post'}]\n",
        "\n",
        "DescribeCoverage\n",
        "\t[{'url': 'http://geobrain.laits.gmu.edu/cgi-bin/gbwcs-dem?', 'type': 'Get'}, {'url': 'http://geobrain.laits.gmu.edu/cgi-bin/gbwcs-dem?', 'type': 'Post'}]\n",
        "\n",
        "GetCoverage\n",
        "\t[{'url': 'http://geobrain.laits.gmu.edu/cgi-bin/gbwcs-dem?', 'type': 'Get'}, {'url': 'http://geobrain.laits.gmu.edu/cgi-bin/gbwcs-dem?', 'type': 'Post'}]\n",
        "\n"
       ]
      }
     ],
     "prompt_number": 36
    },
    {
     "cell_type": "markdown",
     "metadata": {},
     "source": [
      "WCS 1.0.0 Notes\n",
      "- no formatOptions for this version at all\n",
      "- no parameters either"
     ]
    },
    {
     "cell_type": "code",
     "collapsed": false,
     "input": [
      "# wcs 1.1.0 (do not have a valid example of this and \n",
      "# there isn't one in the repo!)\n",
      "# see the wcs111.xml example from here:\n",
      "# http://ogi.state.ok.us/geoserver/wcs?VERSION=1.1.0&REQUEST=GetCapabilities&SERVICE=WCS\n",
      "\n",
      "# try the url\n",
      "wcs110 = WebCoverageService('http://ogi.state.ok.us/geoserver/wcs?VERSION=1.1.0&REQUEST=GetCapabilities&SERVICE=WCS', version='1.1.0')\n",
      "\n",
      "print 'title:', wcs110.identification.title\n",
      "print 'abstract:', wcs110.identification.abstract\n",
      "print 'keywords:', wcs110.identification.keywords\n",
      "print 'access constraints:', wcs110.identification.accessConstraints\n",
      "print 'contact:', wcs110.provider.contact.name\n",
      "\n",
      "for op in wcs110.operations:\n",
      "    print op.name , '(', op.formatOptions, ')'\n",
      "    print '\\t', op.methods\n",
      "    print '\\t', op.parameters\n",
      "    print ''"
     ],
     "language": "python",
     "metadata": {},
     "outputs": [
      {
       "output_type": "stream",
       "stream": "stdout",
       "text": [
        "title: Web Coverage Service\n",
        "abstract: This server implements the WCS specification 1.0 and 1.1.1, it's reference implementation of WCS 1.1.1. All layers published by this service are available on WMS also.\n",
        "keywords: ['WCS', 'WMS', 'GEOSERVER']\n",
        "access constraints: NONE\n",
        "contact: Mike Sharp\n",
        "GetCapabilities ( [] )\n",
        "\t{}\n",
        "\t[]\n",
        "\n",
        "DescribeCoverage ( [] )\n",
        "\t{}\n",
        "\t[]\n",
        "\n",
        "GetCoverage ( ['True', 'False'] )\n",
        "\t{}\n",
        "\t[{'store': {'values': ['True', 'False']}}]\n",
        "\n"
       ]
      }
     ],
     "prompt_number": 37
    },
    {
     "cell_type": "markdown",
     "metadata": {},
     "source": [
      "Well okay then. That's not correct at all - there are text values for the metadata and there are certainly operations."
     ]
    },
    {
     "cell_type": "code",
     "collapsed": false,
     "input": [
      "#from owslib.coverage.wcsBase import WCSBase, WCSCapabilitiesReader, ServiceException\n",
      "\n",
      "# so try the file\n",
      "with open('notebooks/xmls/wcs111.xml', 'r') as f:\n",
      "    xml = f.read()\n",
      "\n",
      "wcs111 = WebCoverageService('', xml=xml, version='1.1.1')\n",
      "\n",
      "print 'title:', wcs111.identification.title\n",
      "print 'abstract:', wcs111.identification.abstract\n",
      "print 'keywords:', wcs111.identification.keywords\n",
      "print 'access constraints:', wcs111.identification.accessConstraints\n",
      "print 'contact:', wcs111.provider.contact.name\n",
      "\n",
      "for op in wcs111.operations:\n",
      "    print op.name , '(', op.formatOptions, ')'\n",
      "    print '\\t', op.methods\n",
      "    print '\\t', op.parameters\n",
      "    print ''"
     ],
     "language": "python",
     "metadata": {},
     "outputs": [
      {
       "output_type": "stream",
       "stream": "stdout",
       "text": [
        "title: Web Coverage Service\n",
        "abstract: This server implements the WCS specification 1.0 and 1.1.1, it's reference implementation of WCS 1.1.1. All layers published by this service are available on WMS also.\n",
        "keywords: ['WCS', 'WMS', 'GEOSERVER']\n",
        "access constraints: NONE\n",
        "contact: Mike Sharp\n",
        "GetCapabilities ( [] )\n",
        "\t{}\n",
        "\t[]\n",
        "\n",
        "DescribeCoverage ( [] )\n",
        "\t{}\n",
        "\t[]\n",
        "\n",
        "GetCoverage ( ['True', 'False'] )\n",
        "\t{}\n",
        "\t[{'store': {'values': ['True', 'False']}}]\n",
        "\n"
       ]
      }
     ],
     "prompt_number": 38
    },
    {
     "cell_type": "markdown",
     "metadata": {},
     "source": [
      "So that's still no good. There might be an existing branch? We should check on that."
     ]
    },
    {
     "cell_type": "code",
     "collapsed": false,
     "input": [
      "# wcs 1.1.2 (not supported, not going to bother until it is)"
     ],
     "language": "python",
     "metadata": {},
     "outputs": [],
     "prompt_number": 39
    }
   ],
   "metadata": {}
  }
 ]
}