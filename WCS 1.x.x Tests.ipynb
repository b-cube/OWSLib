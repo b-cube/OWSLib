{
 "cells": [
  {
   "cell_type": "markdown",
   "metadata": {},
   "source": [
    "## Tasks\n",
    "\n",
    "<font color='green'>#</font> accessConstraints instead of accessconstraints (standardize across all)\n",
    "<font color='red'>#</font> WCS 1.0.0 - no operation parameters (verify in spec)\n",
    "<font color='green'>#</font> WCS 1.1.0 not functional file/url. Metadata entries are all none or empty."
   ]
  },
  {
   "cell_type": "code",
   "execution_count": 202,
   "metadata": {
    "collapsed": false
   },
   "outputs": [],
   "source": [
    "%reload_ext autoreload\n",
    "%autoreload 2\n",
    "\n",
    "from owslib.wcs import WebCoverageService"
   ]
  },
  {
   "cell_type": "code",
   "execution_count": 203,
   "metadata": {
    "collapsed": true
   },
   "outputs": [
    {
     "name": "stdout",
     "output_type": "stream",
     "text": [
      "title: GMU LAITS Web Coverage Server\n",
      "abstract: GeoBrain Web Coverage Server for DEM data\n",
      "keywords: ['GMU LAITS GeoBrain WCS DEM']\n",
      "access constraints: NONE\n",
      "contact: Liping Di\n",
      "GetCapabilities\n",
      "\t[{'url': 'http://geobrain.laits.gmu.edu/cgi-bin/gbwcs-dem?', 'type': 'Get'}, {'url': 'http://geobrain.laits.gmu.edu/cgi-bin/gbwcs-dem?', 'type': 'Post'}]\n",
      "\n",
      "DescribeCoverage\n",
      "\t[{'url': 'http://geobrain.laits.gmu.edu/cgi-bin/gbwcs-dem?', 'type': 'Get'}, {'url': 'http://geobrain.laits.gmu.edu/cgi-bin/gbwcs-dem?', 'type': 'Post'}]\n",
      "\n",
      "GetCoverage\n",
      "\t[{'url': 'http://geobrain.laits.gmu.edu/cgi-bin/gbwcs-dem?', 'type': 'Get'}, {'url': 'http://geobrain.laits.gmu.edu/cgi-bin/gbwcs-dem?', 'type': 'Post'}]\n",
      "\n"
     ]
    }
   ],
   "source": [
    "# wcs 1.0.0\n",
    "with open('notebooks/xmls/wcs100.xml', 'r') as f:\n",
    "    xml = f.read()\n",
    "\n",
    "wcs100 = WebCoverageService('', xml=xml, version='1.0.0')\n",
    "\n",
    "print 'title:', wcs100.identification.title\n",
    "print 'abstract:', wcs100.identification.abstract\n",
    "print 'keywords:', wcs100.identification.keywords\n",
    "print 'access constraints:', wcs100.identification.accessConstraints\n",
    "print 'contact:', wcs100.provider.contact.name\n",
    "\n",
    "for op in wcs100.operations:\n",
    "    print op.name #, '(', op.formatOptions, ')'\n",
    "    print '\\t', op.methods\n",
    "    # print '\\t', op.parameters\n",
    "    print ''"
   ]
  },
  {
   "cell_type": "markdown",
   "metadata": {},
   "source": [
    "WCS 1.0.0 Notes\n",
    "- no formatOptions for this version at all\n",
    "- no parameters either"
   ]
  },
  {
   "cell_type": "code",
   "execution_count": 204,
   "metadata": {
    "collapsed": true
   },
   "outputs": [
    {
     "name": "stdout",
     "output_type": "stream",
     "text": [
      "title: Web Coverage Service\n",
      "abstract: This server implements the WCS specification 1.0 and 1.1.1, it's reference implementation of WCS 1.1.1. All layers published by this service are available on WMS also.\n",
      "keywords: ['WCS', 'WMS', 'GEOSERVER']\n",
      "access constraints: NONE\n",
      "contact: Mike Sharp\n",
      "GetCapabilities ( [] )\n",
      "\t[{'url': 'http://204.62.18.179:8080/geoserver/wcs?', 'type': 'Get'}, {'url': 'http://204.62.18.179:8080/geoserver/wcs?', 'type': 'Post'}]\n",
      "\t{}\n",
      "\n",
      "DescribeCoverage ( [] )\n",
      "\t[{'url': 'http://204.62.18.179:8080/geoserver/wcs?', 'type': 'Get'}, {'url': 'http://204.62.18.179:8080/geoserver/wcs?', 'type': 'Post'}]\n",
      "\t{}\n",
      "\n",
      "GetCoverage ( [] )\n",
      "\t[{'url': 'http://204.62.18.179:8080/geoserver/wcs?', 'type': 'Get'}, {'url': 'http://204.62.18.179:8080/geoserver/wcs?', 'type': 'Post'}]\n",
      "\t{'store': {'values': ['True', 'False']}}\n",
      "\n"
     ]
    }
   ],
   "source": [
    "# wcs 1.1.0 (do not have a valid example of this and \n",
    "# there isn't one in the repo!)\n",
    "# see the wcs111.xml example from here:\n",
    "# http://ogi.state.ok.us/geoserver/wcs?VERSION=1.1.0&REQUEST=GetCapabilities&SERVICE=WCS\n",
    "\n",
    "# try the url\n",
    "wcs110 = WebCoverageService('http://ogi.state.ok.us/geoserver/wcs?VERSION=1.1.0&REQUEST=GetCapabilities&SERVICE=WCS', version='1.1.0')\n",
    "\n",
    "print 'title:', wcs110.identification.title\n",
    "print 'abstract:', wcs110.identification.abstract\n",
    "print 'keywords:', wcs110.identification.keywords\n",
    "print 'access constraints:', wcs110.identification.accessConstraints\n",
    "print 'contact:', wcs110.provider.contact.name\n",
    "\n",
    "for op in wcs110.operations:\n",
    "    print op.name , '(', op.formatOptions, ')'\n",
    "    print '\\t', op.methods\n",
    "    print '\\t', op.parameters\n",
    "    print ''"
   ]
  },
  {
   "cell_type": "markdown",
   "metadata": {},
   "source": [
    "Well okay then. That's not correct at all - there are text values for the metadata and there are certainly operations."
   ]
  },
  {
   "cell_type": "code",
   "execution_count": 205,
   "metadata": {
    "collapsed": true
   },
   "outputs": [
    {
     "name": "stdout",
     "output_type": "stream",
     "text": [
      "title: Web Coverage Service\n",
      "abstract: This server implements the WCS specification 1.0 and 1.1.1, it's reference implementation of WCS 1.1.1. All layers published by this service are available on WMS also.\n",
      "keywords: ['WCS', 'WMS', 'GEOSERVER']\n",
      "access constraints: NONE\n",
      "contact: Mike Sharp\n",
      "GetCapabilities ( [] )\n",
      "\t[{'url': 'http://204.62.18.179:8080/geoserver/wcs?', 'type': 'Get'}, {'url': 'http://204.62.18.179:8080/geoserver/wcs?', 'type': 'Post'}]\n",
      "\t{}\n",
      "\t[{'PostEncoding': {'values': ['XML']}}]\n",
      "\n",
      "DescribeCoverage ( [] )\n",
      "\t[{'url': 'http://204.62.18.179:8080/geoserver/wcs?', 'type': 'Get'}, {'url': 'http://204.62.18.179:8080/geoserver/wcs?', 'type': 'Post'}]\n",
      "\t{}\n",
      "\t[{'PostEncoding': {'values': ['XML']}}]\n",
      "\n",
      "GetCoverage ( [] )\n",
      "\t[{'url': 'http://204.62.18.179:8080/geoserver/wcs?', 'type': 'Get'}, {'url': 'http://204.62.18.179:8080/geoserver/wcs?', 'type': 'Post'}]\n",
      "\t{'store': {'values': ['True', 'False']}}\n",
      "\t[{'PostEncoding': {'values': ['XML']}}]\n",
      "\n",
      "{'okhill': <owslib.coverage.wcs110.ContentMetadata object at 0x103a26310>, 'OK_City_2008_One_Foot': <owslib.coverage.wcs110.ContentMetadata object at 0x103a26b10>, 'NRCS_DEM_BARE_EARTH_DegreeOverviews': <owslib.coverage.wcs110.ContentMetadata object at 0x103a266d0>, 'NRCS_DEM_BARE_EARTH_HILLSHADE': <owslib.coverage.wcs110.ContentMetadata object at 0x103a26750>, 'ok_24K_DRG_Mosaic': <owslib.coverage.wcs110.ContentMetadata object at 0x103a26cd0>, 'NAIP2010_Statewide_DegreeOverviews': <owslib.coverage.wcs110.ContentMetadata object at 0x103a26550>, 'NRCS_DEM_FIRST_RETURN_HILLSHADE_DegreeOverviews': <owslib.coverage.wcs110.ContentMetadata object at 0x103a26a90>, 'NRCS_DEM_FIRST_RETURN_HILLSHADE': <owslib.coverage.wcs110.ContentMetadata object at 0x103a26a10>, 'NAIP2008_Statewide_DegreeOverviews': <owslib.coverage.wcs110.ContentMetadata object at 0x103a26450>, 'DEM10Blue': <owslib.coverage.wcs110.ContentMetadata object at 0x103a26190>, 'NAIP2008_Statewide': <owslib.coverage.wcs110.ContentMetadata object at 0x103a263d0>, 'NAIP2010_Statewide': <owslib.coverage.wcs110.ContentMetadata object at 0x103a264d0>, 'bethany2010': <owslib.coverage.wcs110.ContentMetadata object at 0x103a26890>, 'NAIP2013_Statewide': <owslib.coverage.wcs110.ContentMetadata object at 0x103a265d0>, 'NRCS_DEM_FIRST_RETURN': <owslib.coverage.wcs110.ContentMetadata object at 0x103a26850>, 'NRCS_DEM_BARE_EARTH': <owslib.coverage.wcs110.ContentMetadata object at 0x103a26650>, 'NRCS_DEM_FIRST_RETURN_DegreeOverviews': <owslib.coverage.wcs110.ContentMetadata object at 0x103a26090>, 'NRCS_DEM_BARE_EARTH_HILLSHADE_DegreeOverviews': <owslib.coverage.wcs110.ContentMetadata object at 0x103a267d0>, 'NAIP2008': <owslib.coverage.wcs110.ContentMetadata object at 0x103a26210>}\n",
      "OK_City_2008_One_Foot\n",
      "['WCS', 'ImageMosaic', 'OK_City_2008_One_Foot']\n",
      "(-97.813, 35.188, -97.188, 35.813)\n"
     ]
    }
   ],
   "source": [
    "#from owslib.coverage.wcsBase import WCSBase, WCSCapabilitiesReader, ServiceException\n",
    "#from owslib.coverage.wcs110 import ns, findall, find\n",
    "\n",
    "# so try the file\n",
    "with open('notebooks/xmls/wcs111.xml', 'r') as f:\n",
    "    xml = f.read()\n",
    "\n",
    "wcs111 = WebCoverageService('', xml=xml, version='1.1.1')\n",
    "\n",
    "print 'title:', wcs111.identification.title\n",
    "print 'abstract:', wcs111.identification.abstract\n",
    "print 'keywords:', wcs111.identification.keywords\n",
    "print 'access constraints:', wcs111.identification.accessConstraints\n",
    "print 'contact:', wcs111.provider.contact.name\n",
    "\n",
    "for op in wcs111.operations:\n",
    "    print op.name , '(', op.formatOptions, ')'\n",
    "    print '\\t', op.methods\n",
    "    print '\\t', op.parameters\n",
    "    print '\\t', op.constraints\n",
    "    print ''\n",
    "\n",
    "contents = wcs111.contents\n",
    "print contents\n",
    "\n",
    "test_key = contents.keys()[1]\n",
    "print contents[test_key].title\n",
    "print contents[test_key].keywords\n",
    "print contents[test_key].boundingBoxWGS84"
   ]
  },
  {
   "cell_type": "markdown",
   "metadata": {},
   "source": [
    "So that's still no good. There might be an existing branch? We should check on that."
   ]
  },
  {
   "cell_type": "code",
   "execution_count": 206,
   "metadata": {
    "collapsed": false,
    "scrolled": true
   },
   "outputs": [
    {
     "name": "stdout",
     "output_type": "stream",
     "text": [
      "title: DataAtlas_NCDC_SeaWinds_Fall\n",
      "abstract: None\n",
      "keywords: []\n",
      "access constraints: None\n",
      "contact: None\n",
      "GetCapabilities ( [] )\n",
      "\t[{'url': 'http://www.ncddc.noaa.gov/arcgis/services/DataAtlas/NCDC_SeaWinds_Fall/MapServer/WCSServer', 'type': 'Get'}, {'url': 'http://www.ncddc.noaa.gov/arcgis/services/DataAtlas/NCDC_SeaWinds_Fall/MapServer/WCSServer', 'type': 'Post'}]\n",
      "\t{'AcceptVersions': {'values': ['1.0.0', '1.1.0', '1.1.1', '1.1.2']}, 'service': {'values': ['WCS']}}\n",
      "\t[]\n",
      "\n",
      "DescribeCoverage ( [] )\n",
      "\t[{'url': 'http://www.ncddc.noaa.gov/arcgis/services/DataAtlas/NCDC_SeaWinds_Fall/MapServer/WCSServer', 'type': 'Get'}, {'url': 'http://www.ncddc.noaa.gov/arcgis/services/DataAtlas/NCDC_SeaWinds_Fall/MapServer/WCSServer', 'type': 'Post'}]\n",
      "\t{'Identifier': {'values': ['1']}, 'version': {'values': ['1.0.0', '1.1.0', '1.1.1', '1.1.2']}, 'service': {'values': ['WCS']}}\n",
      "\t[]\n",
      "\n",
      "GetCoverage ( [] )\n",
      "\t[{'url': 'http://www.ncddc.noaa.gov/arcgis/services/DataAtlas/NCDC_SeaWinds_Fall/MapServer/WCSServer', 'type': 'Get'}, {'url': 'http://www.ncddc.noaa.gov/arcgis/services/DataAtlas/NCDC_SeaWinds_Fall/MapServer/WCSServer', 'type': 'Post'}]\n",
      "\t{'service': {'values': ['WCS']}, 'format': {'values': ['image/GeoTIFF', 'image/NITF', 'image/JPEG', 'image/PNG', 'image/JPEG2000', 'image/HDF']}, 'version': {'values': ['1.0.0', '1.1.0', '1.1.1', '1.1.2']}, 'Identifier': {'values': ['1']}, 'InterpolationType': {'values': ['nearest', 'bilinear', 'bicubic']}, 'store': {'values': ['False', 'True']}}\n",
      "\t[]\n",
      "\n"
     ]
    }
   ],
   "source": [
    "# wcs 1.1.2 (not supported, not going to bother until it is)\n",
    "\n",
    "with open('notebooks/xmls/wcs112.xml', 'r') as f:\n",
    "    xml = f.read()\n",
    "\n",
    "wcs112 = WebCoverageService('', xml=xml, version='1.1.2')\n",
    "\n",
    "print 'title:', wcs112.identification.title\n",
    "print 'abstract:', wcs112.identification.abstract\n",
    "print 'keywords:', wcs112.identification.keywords\n",
    "print 'access constraints:', wcs112.identification.accessConstraints\n",
    "print 'contact:', wcs112.provider.contact.name\n",
    "\n",
    "for op in wcs112.operations:\n",
    "    print op.name , '(', op.formatOptions, ')'\n",
    "    print '\\t', op.methods\n",
    "    print '\\t', op.parameters\n",
    "    print '\\t', op.constraints\n",
    "    print ''"
   ]
  },
  {
   "cell_type": "code",
   "execution_count": 207,
   "metadata": {
    "collapsed": true
   },
   "outputs": [
    {
     "name": "stdout",
     "output_type": "stream",
     "text": [
      "{'1': <owslib.coverage.wcs110.ContentMetadata object at 0x103a2cc90>}\n",
      "Wind Speed_1\n",
      "[]\n",
      "(-99.30729975386576, 16.84921710611556, -79.16820453576456, 31.096007533496138)\n"
     ]
    }
   ],
   "source": [
    "#see what happens with the coverage summaries\n",
    "contents = wcs112.contents\n",
    "print contents\n",
    "\n",
    "print contents['1'].title\n",
    "print contents['1'].keywords\n",
    "print contents['1'].boundingBoxWGS84"
   ]
  },
  {
   "cell_type": "code",
   "execution_count": 208,
   "metadata": {
    "collapsed": false
   },
   "outputs": [
    {
     "name": "stdout",
     "output_type": "stream",
     "text": [
      "[]\n",
      "1 ['Place', 'Theme']\n",
      "['/*/*[local-name()=\"Contents\"]/*[local-name()=\"CoverageSummary\"][*[local-name()=\"CoverageSummary\"]//*[local-name()=\"Identifier\" and text()=\"2\"]]/*[local-name()=\"Keywords\"]/*[local-name()=\"Keyword\"]']\n",
      "2 ['Boulder', 'Colorado', 'Place', 'Theme']\n",
      "['/*/*[local-name()=\"Contents\"]/*[local-name()=\"CoverageSummary\"]/*[local-name()=\"CoverageSummary\"][*[local-name()=\"CoverageSummary\"]//*[local-name()=\"Identifier\" and text()=\"3\"]]/*[local-name()=\"Keywords\"]/*[local-name()=\"Keyword\"]', '/*/*[local-name()=\"Contents\"]/*[local-name()=\"CoverageSummary\"][*[local-name()=\"CoverageSummary\"]/*[local-name()=\"CoverageSummary\"]//*[local-name()=\"Identifier\" and text()=\"3\"]]/*[local-name()=\"Keywords\"]/*[local-name()=\"Keyword\"]']\n",
      "3 ['Rocket Science', 'Place', 'Theme', 'Boulder', 'Colorado']\n",
      "[]\n",
      "4 ['Oceans']\n"
     ]
    }
   ],
   "source": [
    "from lxml import etree\n",
    "\n",
    "# quick nested coveragesummary checks \n",
    "\n",
    "text = '''<?xml version=\"1.0\" encoding=\"UTF-8\"?>\n",
    "<Capabilities>\n",
    "    <Contents>\n",
    "       <CoverageSummary>\n",
    "           <Title>Wind Speed_1</Title>\n",
    "           <Abstract>Gridded, high resolution ocean surface vector winds and wind stresses on a global 0.25° grid.  This is the seasonal fall average of wind speeds from 1990 to 2010. Speeds are recorded in meters per second.</Abstract>\n",
    "           <Keywords>\n",
    "               <Keyword>Place</Keyword>\n",
    "               <Keyword>Theme</Keyword>\n",
    "           </Keywords>\n",
    "           <Metadata>some metadata</Metadata>\n",
    "           <WGS84BoundingBox>\n",
    "               <LowerCorner>-99.307299753865763 16.84921710611556</LowerCorner>\n",
    "               <UpperCorner>-79.168204535764559 31.096007533496138</UpperCorner>\n",
    "           </WGS84BoundingBox>\n",
    "           \n",
    "           <CoverageSummary>\n",
    "               <Title>Level 1</Title>\n",
    "               <Abstract>The first level</Abstract>\n",
    "               <Keywords>\n",
    "                   <Keyword>Boulder</Keyword>\n",
    "                   <Keyword>Colorado</Keyword>\n",
    "               </Keywords>\n",
    "               <Metadata>some metadata</Metadata>\n",
    "               <WGS84BoundingBox>\n",
    "                   <LowerCorner>-99.307299753865763 16.84921710611556</LowerCorner>\n",
    "                   <UpperCorner>-79.168204535764559 31.096007533496138</UpperCorner>\n",
    "               </WGS84BoundingBox>\n",
    "               \n",
    "               <CoverageSummary>\n",
    "                   <Title>Level 2</Title>\n",
    "                   <Abstract>The second level</Abstract>\n",
    "                   <Keywords>\n",
    "                       <Keyword>Rocket Science</Keyword>\n",
    "                   </Keywords>\n",
    "                   <WGS84BoundingBox>\n",
    "                       <LowerCorner>0.00 0.00</LowerCorner>\n",
    "                       <UpperCorner>0.00 0.00</UpperCorner>\n",
    "                   </WGS84BoundingBox>\n",
    "                   <SupportedCRS>EPSG:4326</SupportedCRS>\n",
    "                   <Identifier>3</Identifier>\n",
    "               </CoverageSummary>\n",
    "               <Identifier>2</Identifier>\n",
    "           </CoverageSummary>\n",
    "           <Identifier>1</Identifier>\n",
    "       </CoverageSummary>\n",
    "       <CoverageSummary>\n",
    "           <Title>Level 1: The Return</Title>\n",
    "           <Abstract>The first level repeater</Abstract>\n",
    "           <Keywords>\n",
    "               <Keyword>Oceans</Keyword>\n",
    "           </Keywords>\n",
    "           <WGS84BoundingBox>\n",
    "               <LowerCorner>0.00 0.00</LowerCorner>\n",
    "               <UpperCorner>0.00 0.00</UpperCorner>\n",
    "           </WGS84BoundingBox>\n",
    "           <SupportedCRS>EPSG:4326</SupportedCRS>\n",
    "           <Identifier>4</Identifier>\n",
    "       </CoverageSummary>\n",
    "    </Contents>\n",
    "</Capabilities>'''\n",
    "\n",
    "xml = etree.fromstring(text)\n",
    "\n",
    "def build_coverage_xpaths(num_tags, identifier):\n",
    "    if num_tags <= 1:\n",
    "        return []\n",
    "    \n",
    "    xps = []\n",
    "    for i in xrange(1, num_tags):\n",
    "        # wow.\n",
    "        the_start = '/*/*[local-name()=\"Contents\"]/' + '/'.join(['*[local-name()=\"CoverageSummary\"]']*(num_tags-i))\n",
    "        the_end = '[' + '/'.join(['*[local-name()=\"CoverageSummary\"]']*i + \n",
    "                                    ['/*[local-name()=\"Identifier\" and text()=\"%s\"]]/*[local-name()=\"Keywords\"]/*[local-name()=\"Keyword\"]' % identifier])\n",
    "        xps.append(the_start + the_end) \n",
    "    return xps\n",
    "\n",
    "xp = '/*/Contents//CoverageSummary'\n",
    "for elem in xml.xpath(xp):\n",
    "    title = elem.find('Title').text\n",
    "    abstract = elem.find('Abstract').text\n",
    "    identifier = elem.find('Identifier').text\n",
    "    keywords = [k.text for k in elem.findall('Keywords/Keyword')]\n",
    "    \n",
    "    tags = [elem.tag] + [e.tag for e in elem.iterancestors() if e.tag in ['CoverageSummary']]\n",
    "    key_xpaths = build_coverage_xpaths(len(tags), identifier) if tags else []\n",
    "    print key_xpaths\n",
    "    all_keywords = keywords + ([k.text for k in xml.xpath(' | '.join(key_xpaths))] if key_xpaths else [])\n",
    "    \n",
    "#     '/*/Contents/CoverageSummary/CoverageSummary/CoverageSummary[Identifier=\"\"]/Keywords/Keyword'\n",
    "#     '/*/Contents/CoverageSummary/CoverageSummary[CoverageSummary/Identifier=\"\"]/Keywords/Keyword'\n",
    "#     '/*/Contents/CoverageSummary[CoverageSummary/CoverageSummary/Identifier=\"\"]/Keywords/Keyword'\n",
    "\n",
    "    print identifier, all_keywords\n",
    "    \n",
    "\n",
    "# super.\n",
    "# we need to concat the keywords up through the parents? apparently.\n",
    "# and also the identifier might not be from the current node so that's fantastic"
   ]
  },
  {
   "cell_type": "code",
   "execution_count": 209,
   "metadata": {
    "collapsed": false
   },
   "outputs": [
    {
     "data": {
      "text/plain": [
       "'3'"
      ]
     },
     "execution_count": 209,
     "metadata": {},
     "output_type": "execute_result"
    }
   ],
   "source": [
    "from owslib.coverage.wcs110 import ns, findall, find\n",
    "\n",
    "# let's check for a child/parent identifier widget\n",
    "elem = xml.xpath('/*/Contents//CoverageSummary[Identifier=\"3\"]')[0]\n",
    "# we can have 2 or 1 from this elem but are returning the first element from the list\n",
    "ids = find(elem, '*[local-name()=\"Identifier\"] | ../*[local-name()=\"Identifier\"]')\n",
    "#[i.text for i in ids]\n",
    "ids.text"
   ]
  },
  {
   "cell_type": "code",
   "execution_count": 210,
   "metadata": {
    "collapsed": false
   },
   "outputs": [
    {
     "name": "stdout",
     "output_type": "stream",
     "text": [
      "['CoverageSummary', 'CoverageSummary', 'CoverageSummary']\n",
      "Keywords/Keyword\n",
      "../Keywords/Keyword\n",
      "../../Keywords/Keyword\n"
     ]
    }
   ],
   "source": [
    "# nuts\n",
    "keys = findall(elem, '../../*[local-name()=\"Keywords\"]/*[local-name()=\"Keyword\"] | ../*[local-name()=\"Keywords\"]/*[local-name()=\"Keyword\"] | *[local-name()=\"Keywords\"]/*[local-name()=\"Keyword\"]')\n",
    "tags = [elem.tag] + [e.tag for e in elem.iterancestors() if e.tag == 'CoverageSummary']\n",
    "print tags\n",
    "[k.text for k in keys]\n",
    "\n",
    "xpaths = []\n",
    "for i in xrange(len(tags)):\n",
    "    print '/'.join(['..']*i +['Keywords','Keyword'])\n"
   ]
  },
  {
   "cell_type": "code",
   "execution_count": 211,
   "metadata": {
    "collapsed": false
   },
   "outputs": [
    {
     "name": "stdout",
     "output_type": "stream",
     "text": [
      "/*/*[local-name()=\"Contents\"]//*[local-name()=\"CoverageSummary\"]\n",
      "{http://www.opengis.net/wcs/1.1}CoverageSummary\n"
     ]
    }
   ],
   "source": [
    "x = '/' + ns('*/Contents') + '//' + ns('CoverageSummary')\n",
    "print x\n",
    "for elem in findall(wcs112._capabilities, x):\n",
    "    print elem.tag"
   ]
  },
  {
   "cell_type": "code",
   "execution_count": 211,
   "metadata": {
    "collapsed": false
   },
   "outputs": [],
   "source": []
  },
  {
   "cell_type": "code",
   "execution_count": null,
   "metadata": {
    "collapsed": true
   },
   "outputs": [],
   "source": [
    "http://modwebsrv.modaps.eosdis.nasa.gov/wcs/5/MOD021KM/wcs?service=WCS&version=1.0.0&request=DescribeCoverage&coverage=EV_1KM_Emissive:Day'\n"
   ]
  },
  {
   "cell_type": "code",
   "execution_count": 11,
   "metadata": {
    "collapsed": false
   },
   "outputs": [
    {
     "ename": "AttributeError",
     "evalue": "'NoneType' object has no attribute 'find'",
     "output_type": "error",
     "traceback": [
      "\u001b[0;31m---------------------------------------------------------------------------\u001b[0m",
      "\u001b[0;31mAttributeError\u001b[0m                            Traceback (most recent call last)",
      "\u001b[0;32m<ipython-input-11-9c9f90fec125>\u001b[0m in \u001b[0;36m<module>\u001b[0;34m()\u001b[0m\n\u001b[1;32m      7\u001b[0m \u001b[0murl\u001b[0m \u001b[0;34m=\u001b[0m \u001b[0;34m'http://modwebsrv.modaps.eosdis.nasa.gov/wcs/5/MOD021KM/wcs?service=WCS&version=1.0.0&request=DescribeCoverage'\u001b[0m\u001b[0;34m\u001b[0m\u001b[0m\n\u001b[1;32m      8\u001b[0m \u001b[0;34m\u001b[0m\u001b[0m\n\u001b[0;32m----> 9\u001b[0;31m \u001b[0mwcs\u001b[0m \u001b[0;34m=\u001b[0m \u001b[0mWebCoverageService\u001b[0m\u001b[0;34m(\u001b[0m\u001b[0murl\u001b[0m\u001b[0;34m,\u001b[0m \u001b[0mversion\u001b[0m\u001b[0;34m=\u001b[0m\u001b[0;34m'1.0.0'\u001b[0m\u001b[0;34m)\u001b[0m\u001b[0;34m\u001b[0m\u001b[0m\n\u001b[0m\u001b[1;32m     10\u001b[0m \u001b[0;34m\u001b[0m\u001b[0m\n\u001b[1;32m     11\u001b[0m \u001b[0;31m# this did also bupkus re: that is not a describecoverage response\u001b[0m\u001b[0;34m\u001b[0m\u001b[0;34m\u001b[0m\u001b[0m\n",
      "\u001b[0;32m/Users/sscott/Documents/projects/bcube-semantics/OWSLib/bcube_owslib/wcs.pyc\u001b[0m in \u001b[0;36mWebCoverageService\u001b[0;34m(url, version, xml, cookies, timeout)\u001b[0m\n\u001b[1;32m     39\u001b[0m \u001b[0;34m\u001b[0m\u001b[0m\n\u001b[1;32m     40\u001b[0m     \u001b[0;32mif\u001b[0m \u001b[0mversion\u001b[0m \u001b[0;34m==\u001b[0m \u001b[0;34m'1.0.0'\u001b[0m\u001b[0;34m:\u001b[0m\u001b[0;34m\u001b[0m\u001b[0m\n\u001b[0;32m---> 41\u001b[0;31m         \u001b[0;32mreturn\u001b[0m \u001b[0mwcs100\u001b[0m\u001b[0;34m.\u001b[0m\u001b[0mWebCoverageService_1_0_0\u001b[0m\u001b[0;34m.\u001b[0m\u001b[0m__new__\u001b[0m\u001b[0;34m(\u001b[0m\u001b[0mwcs100\u001b[0m\u001b[0;34m.\u001b[0m\u001b[0mWebCoverageService_1_0_0\u001b[0m\u001b[0;34m,\u001b[0m \u001b[0murl\u001b[0m\u001b[0;34m,\u001b[0m \u001b[0mxml\u001b[0m\u001b[0;34m,\u001b[0m \u001b[0mcookies\u001b[0m\u001b[0;34m)\u001b[0m\u001b[0;34m\u001b[0m\u001b[0m\n\u001b[0m\u001b[1;32m     42\u001b[0m     \u001b[0;32melif\u001b[0m \u001b[0mversion\u001b[0m \u001b[0;32min\u001b[0m \u001b[0;34m[\u001b[0m\u001b[0;34m'1.1.0'\u001b[0m\u001b[0;34m,\u001b[0m \u001b[0;34m'1.1.1'\u001b[0m\u001b[0;34m,\u001b[0m \u001b[0;34m'1.1.2'\u001b[0m\u001b[0;34m]\u001b[0m\u001b[0;34m:\u001b[0m\u001b[0;34m\u001b[0m\u001b[0m\n\u001b[1;32m     43\u001b[0m         \u001b[0;32mreturn\u001b[0m \u001b[0mwcs110\u001b[0m\u001b[0;34m.\u001b[0m\u001b[0mWebCoverageService_1_1_x\u001b[0m\u001b[0;34m.\u001b[0m\u001b[0m__new__\u001b[0m\u001b[0;34m(\u001b[0m\u001b[0mwcs110\u001b[0m\u001b[0;34m.\u001b[0m\u001b[0mWebCoverageService_1_1_x\u001b[0m\u001b[0;34m,\u001b[0m\u001b[0murl\u001b[0m\u001b[0;34m,\u001b[0m \u001b[0mxml\u001b[0m\u001b[0;34m,\u001b[0m \u001b[0mcookies\u001b[0m\u001b[0;34m)\u001b[0m\u001b[0;34m\u001b[0m\u001b[0m\n",
      "\u001b[0;32m/Users/sscott/Documents/projects/bcube-semantics/OWSLib/bcube_owslib/coverage/wcsBase.pyc\u001b[0m in \u001b[0;36m__new__\u001b[0;34m(self, url, xml, cookies)\u001b[0m\n\u001b[1;32m     46\u001b[0m         \"\"\"\n\u001b[1;32m     47\u001b[0m         \u001b[0mobj\u001b[0m\u001b[0;34m=\u001b[0m\u001b[0mobject\u001b[0m\u001b[0;34m.\u001b[0m\u001b[0m__new__\u001b[0m\u001b[0;34m(\u001b[0m\u001b[0mself\u001b[0m\u001b[0;34m)\u001b[0m\u001b[0;34m\u001b[0m\u001b[0m\n\u001b[0;32m---> 48\u001b[0;31m         \u001b[0mobj\u001b[0m\u001b[0;34m.\u001b[0m\u001b[0m__init__\u001b[0m\u001b[0;34m(\u001b[0m\u001b[0murl\u001b[0m\u001b[0;34m,\u001b[0m \u001b[0mxml\u001b[0m\u001b[0;34m,\u001b[0m \u001b[0mcookies\u001b[0m\u001b[0;34m)\u001b[0m\u001b[0;34m\u001b[0m\u001b[0m\n\u001b[0m\u001b[1;32m     49\u001b[0m         \u001b[0mself\u001b[0m\u001b[0;34m.\u001b[0m\u001b[0mcookies\u001b[0m\u001b[0;34m=\u001b[0m\u001b[0mcookies\u001b[0m\u001b[0;34m\u001b[0m\u001b[0m\n\u001b[1;32m     50\u001b[0m         \u001b[0mself\u001b[0m\u001b[0;34m.\u001b[0m\u001b[0m_describeCoverage\u001b[0m \u001b[0;34m=\u001b[0m \u001b[0;34m{\u001b[0m\u001b[0;34m}\u001b[0m \u001b[0;31m#cache for DescribeCoverage responses\u001b[0m\u001b[0;34m\u001b[0m\u001b[0m\n",
      "\u001b[0;32m/Users/sscott/Documents/projects/bcube-semantics/OWSLib/bcube_owslib/coverage/wcs100.pyc\u001b[0m in \u001b[0;36m__init__\u001b[0;34m(self, url, xml, cookies)\u001b[0m\n\u001b[1;32m     57\u001b[0m         \u001b[0;31m# serviceIdentification metadata\u001b[0m\u001b[0;34m\u001b[0m\u001b[0;34m\u001b[0m\u001b[0m\n\u001b[1;32m     58\u001b[0m         \u001b[0msubelem\u001b[0m \u001b[0;34m=\u001b[0m \u001b[0mself\u001b[0m\u001b[0;34m.\u001b[0m\u001b[0m_capabilities\u001b[0m\u001b[0;34m.\u001b[0m\u001b[0mfind\u001b[0m\u001b[0;34m(\u001b[0m\u001b[0mns\u001b[0m\u001b[0;34m(\u001b[0m\u001b[0;34m'Service'\u001b[0m\u001b[0;34m)\u001b[0m\u001b[0;34m)\u001b[0m\u001b[0;34m\u001b[0m\u001b[0m\n\u001b[0;32m---> 59\u001b[0;31m         \u001b[0mself\u001b[0m\u001b[0;34m.\u001b[0m\u001b[0midentification\u001b[0m \u001b[0;34m=\u001b[0m \u001b[0mServiceIdentification\u001b[0m\u001b[0;34m(\u001b[0m\u001b[0msubelem\u001b[0m\u001b[0;34m)\u001b[0m\u001b[0;34m\u001b[0m\u001b[0m\n\u001b[0m\u001b[1;32m     60\u001b[0m \u001b[0;34m\u001b[0m\u001b[0m\n\u001b[1;32m     61\u001b[0m         \u001b[0;31m# serviceProvider metadata\u001b[0m\u001b[0;34m\u001b[0m\u001b[0;34m\u001b[0m\u001b[0m\n",
      "\u001b[0;32m/Users/sscott/Documents/projects/bcube-semantics/OWSLib/bcube_owslib/coverage/wcs100.pyc\u001b[0m in \u001b[0;36m__init__\u001b[0;34m(self, elem)\u001b[0m\n\u001b[1;32m    225\u001b[0m         \u001b[0mself\u001b[0m\u001b[0;34m.\u001b[0m\u001b[0mtype\u001b[0m \u001b[0;34m=\u001b[0m \u001b[0;34m'OGC:WCS'\u001b[0m\u001b[0;34m\u001b[0m\u001b[0m\n\u001b[1;32m    226\u001b[0m         \u001b[0mself\u001b[0m\u001b[0;34m.\u001b[0m\u001b[0mversion\u001b[0m \u001b[0;34m=\u001b[0m \u001b[0;34m'1.0.0'\u001b[0m\u001b[0;34m\u001b[0m\u001b[0m\n\u001b[0;32m--> 227\u001b[0;31m         \u001b[0mself\u001b[0m\u001b[0;34m.\u001b[0m\u001b[0mservice\u001b[0m \u001b[0;34m=\u001b[0m \u001b[0mtestXMLValue\u001b[0m\u001b[0;34m(\u001b[0m\u001b[0melem\u001b[0m\u001b[0;34m.\u001b[0m\u001b[0mfind\u001b[0m\u001b[0;34m(\u001b[0m\u001b[0mns\u001b[0m\u001b[0;34m(\u001b[0m\u001b[0;34m'name'\u001b[0m\u001b[0;34m)\u001b[0m\u001b[0;34m)\u001b[0m\u001b[0;34m)\u001b[0m\u001b[0;34m\u001b[0m\u001b[0m\n\u001b[0m\u001b[1;32m    228\u001b[0m         \u001b[0mself\u001b[0m\u001b[0;34m.\u001b[0m\u001b[0mabstract\u001b[0m \u001b[0;34m=\u001b[0m \u001b[0mtestXMLValue\u001b[0m\u001b[0;34m(\u001b[0m\u001b[0melem\u001b[0m\u001b[0;34m.\u001b[0m\u001b[0mfind\u001b[0m\u001b[0;34m(\u001b[0m\u001b[0mns\u001b[0m\u001b[0;34m(\u001b[0m\u001b[0;34m'description'\u001b[0m\u001b[0;34m)\u001b[0m\u001b[0;34m)\u001b[0m\u001b[0;34m)\u001b[0m\u001b[0;34m\u001b[0m\u001b[0m\n\u001b[1;32m    229\u001b[0m         \u001b[0mself\u001b[0m\u001b[0;34m.\u001b[0m\u001b[0mtitle\u001b[0m \u001b[0;34m=\u001b[0m \u001b[0mtestXMLValue\u001b[0m\u001b[0;34m(\u001b[0m\u001b[0melem\u001b[0m\u001b[0;34m.\u001b[0m\u001b[0mfind\u001b[0m\u001b[0;34m(\u001b[0m\u001b[0mns\u001b[0m\u001b[0;34m(\u001b[0m\u001b[0;34m'label'\u001b[0m\u001b[0;34m)\u001b[0m\u001b[0;34m)\u001b[0m\u001b[0;34m)\u001b[0m\u001b[0;34m\u001b[0m\u001b[0m\n",
      "\u001b[0;31mAttributeError\u001b[0m: 'NoneType' object has no attribute 'find'"
     ]
    }
   ],
   "source": [
    "# trying the wcs describecoverage\n",
    "from bcube_owslib.wcs import WebCoverageService\n",
    "from bcube_owslib.coverage.wcsBase import DescribeCoverageReader\n",
    "from lxml import etree\n",
    "\n",
    "# url = 'http://modwebsrv.modaps.eosdis.nasa.gov/wcs/5/MOD021KM/wcs?service=WCS&version=1.0.0&request=DescribeCoverage&coverage=EV_1KM_Emissive:Day'\n",
    "url = 'http://modwebsrv.modaps.eosdis.nasa.gov/wcs/5/MOD021KM/wcs?service=WCS&version=1.0.0&request=DescribeCoverage'\n",
    "\n",
    "wcs = WebCoverageService(url, version='1.0.0')\n",
    "\n",
    "# this did also bupkus re: that is not a describecoverage response\n",
    "x = wcs.getDescribeCoverage('EV_1KM_Emissive:Day')\n",
    "\n",
    "print etree.tostring(x)\n"
   ]
  },
  {
   "cell_type": "code",
   "execution_count": 12,
   "metadata": {
    "collapsed": false
   },
   "outputs": [
    {
     "data": {
      "text/plain": [
       "<Element {http://www.opengis.net/wcs}CoverageDescription at 0x104fd34d0>"
      ]
     },
     "execution_count": 12,
     "metadata": {},
     "output_type": "execute_result"
    }
   ],
   "source": [
    "desc = DescribeCoverageReader('1.0.0', 'EV_1KM_Emissive:Day', None)\n",
    "desc.read(url)"
   ]
  },
  {
   "cell_type": "code",
   "execution_count": 13,
   "metadata": {
    "collapsed": false
   },
   "outputs": [
    {
     "data": {
      "text/plain": [
       "bcube_owslib.coverage.wcsBase.DescribeCoverageReader"
      ]
     },
     "execution_count": 13,
     "metadata": {},
     "output_type": "execute_result"
    }
   ],
   "source": [
    "type(desc)"
   ]
  },
  {
   "cell_type": "code",
   "execution_count": 14,
   "metadata": {
    "collapsed": false
   },
   "outputs": [
    {
     "data": {
      "text/plain": [
       "'http://modwebsrv.modaps.eosdis.nasa.gov/wcs/5/MOD021KM/wcs?service=WCS&version=1.0.0&request=DescribeCoverage&coverage=EV_1KM_Emissive%3ADay'"
      ]
     },
     "execution_count": 14,
     "metadata": {},
     "output_type": "execute_result"
    }
   ],
   "source": [
    "desc.descCov_url(url)"
   ]
  },
  {
   "cell_type": "code",
   "execution_count": 64,
   "metadata": {
    "collapsed": false
   },
   "outputs": [],
   "source": [
    "# let's do some bad things once more in public. holy cow. please no.\n",
    "from urllib import urlencode\n",
    "from urllib2 import urlopen, Request\n",
    "from bcube_owslib.etree import etree\n",
    "from bcube_owslib.namespaces import Namespaces\n",
    "\n",
    "\n",
    "def testXMLValue(val, attrib=False):\n",
    "    if val is not None:\n",
    "        if attrib:\n",
    "            return val.strip()\n",
    "        elif val.text:  \n",
    "            return val.text.strip()\n",
    "        else:\n",
    "            return None\n",
    "    else:\n",
    "        return None\n",
    "    \n",
    "def nspath_eval(xpath, namespaces):\n",
    "    ''' Return an etree friendly xpath '''\n",
    "    out = []\n",
    "    for chunks in xpath.split('/'):\n",
    "        namespace, element = chunks.split(':')\n",
    "        out.append('{%s}%s' % (namespaces[namespace], element))\n",
    "    return '/'.join(out)\n",
    "\n",
    "def xmltag_split(tag):\n",
    "    ''' Return XML element bare tag name (without prefix) '''\n",
    "    try:\n",
    "        return tag.split('}')[1]\n",
    "    except:\n",
    "        return tag\n",
    "\n",
    "n = Namespaces()\n",
    "namespaces = n.get_namespaces(['wcs', 'gml'])\n",
    "\n",
    "class aDescribeCoverageReader(object):\n",
    "    \"\"\"Read and parses WCS DescribeCoverage document into a lxml.etree infoset\n",
    "    \"\"\"\n",
    "    def __init__(self, version, identifier, cookies, xml=None):\n",
    "        \"\"\"Initialize\n",
    "        @type version: string\n",
    "        @param version: WCS Version parameter e.g '1.0.0'\n",
    "        \"\"\"\n",
    "        self.version = version\n",
    "        # i swear this is not being used anywhere here\n",
    "#         self._infoset = None\n",
    "        self.identifier = identifier\n",
    "        self.cookies = cookies\n",
    "        self.xml = xml\n",
    "        \n",
    "        # so this is also spectacularly not.\n",
    "        self.read('')\n",
    "        self.parse_description()\n",
    "        \n",
    "\n",
    "    def descCov_url(self, service_url):\n",
    "        \"\"\"Return a describe coverage url\n",
    "        @type service_url: string\n",
    "        @param service_url: base url of WCS service\n",
    "        @rtype: string\n",
    "        @return: getCapabilities URL\n",
    "        \"\"\"\n",
    "        qs = []\n",
    "        if service_url.find('?') != -1:\n",
    "            qs = cgi.parse_qsl(service_url.split('?')[1])\n",
    "\n",
    "        params = [x[0] for x in qs]\n",
    "\n",
    "        if 'service' not in params:\n",
    "            qs.append(('service', 'WCS'))\n",
    "        if 'request' not in params:\n",
    "            # TODO: this will keep a GetCapabilities request value\n",
    "            #       and execute it INCORRECTLY given the class we're in\n",
    "            qs.append(('request', 'DescribeCoverage'))\n",
    "        if 'version' not in params:\n",
    "            qs.append(('version', self.version))\n",
    "        if self.version == '1.0.0':\n",
    "            if 'coverage' not in params:\n",
    "                qs.append(('coverage', self.identifier))\n",
    "        elif self.version == '1.1.0':\n",
    "            # NOTE: WCS 1.1.0 is ambigous about whether it should be identifier\n",
    "            # or identifiers (see tables 9, 10 of specification)\n",
    "            if 'identifiers' not in params:\n",
    "                qs.append(('identifiers', self.identifier))\n",
    "            if 'identifier' not in params:\n",
    "                qs.append(('identifier', self.identifier))\n",
    "                qs.append(('format', 'text/xml'))\n",
    "        urlqs = urlencode(tuple(qs))\n",
    "        return service_url.split('?')[0] + '?' + urlqs\n",
    "\n",
    "    def read(self, service_url, timeout=30):\n",
    "        \"\"\"Get and parse a Describe Coverage document, returning an\n",
    "        elementtree tree\n",
    "\n",
    "        @type service_url: string\n",
    "        @param service_url: The base url, to which is appended the service,\n",
    "        version, and request parameters\n",
    "        @rtype: elementtree tree\n",
    "        @return: An elementtree tree representation of the capabilities document\n",
    "        \"\"\"\n",
    "        if self.xml is None:\n",
    "            # make a request\n",
    "            request = self.descCov_url(service_url)\n",
    "            req = Request(request)\n",
    "            if self.cookies is not None:\n",
    "                req.add_header('Cookie', self.cookies)\n",
    "            u = urlopen(req, timeout=timeout)\n",
    "            self.xml = u.read()\n",
    "        self.xml = etree.fromstring(self.xml)\n",
    "\n",
    "    def parse_description(self):\n",
    "        '''\n",
    "        parse the xml\n",
    "        '''\n",
    "        if self.xml is None:\n",
    "            return None\n",
    "\n",
    "        # for the version 1x\n",
    "        self.coverages = []\n",
    "        for coverage in self.xml.findall(nspath_eval('wcs:CoverageOffering', namespaces)):\n",
    "            coverage_offering = CoverageOffering(coverage)\n",
    "            self.coverages.append(coverage_offering)\n",
    "\n",
    "\n",
    "class CoverageOffering(object):\n",
    "    # note: currently for 1.x only\n",
    "    def __init__(self, elem):\n",
    "        # let's go get some stuff\n",
    "        self.description = testXMLValue(elem.find(nspath_eval('wcs:description', namespaces)))\n",
    "        self.name = testXMLValue(elem.find(nspath_eval('wcs:name', namespaces)))\n",
    "        self.label = testXMLValue(elem.find(nspath_eval('wcs:label', namespaces)))\n",
    "\n",
    "        # main bbox\n",
    "        envelope = elem.find(nspath_eval('wcs:lonLatEnvelope', namespaces))\n",
    "        self.min_pos, self.max_pos, self.srs_urn = self._get_envelope(envelope)\n",
    "        \n",
    "\n",
    "        # get the domain set for the temporal extents(s)\n",
    "        domain_set = elem.find(nspath_eval('wcs:domainSet', namespaces))\n",
    "        if domain_set is not None:\n",
    "            self.spatial_domain = {}\n",
    "            spatial_domain = domain_set.find(nspath_eval('wcs:spatialDomain', namespaces))\n",
    "            if spatial_domain is not None:\n",
    "                envelope = spatial_domain.find(nspath_eval('gml:Envelope', namespaces))\n",
    "                min_pos, max_pos, srs_urn = self._get_envelope(envelope)\n",
    "                \n",
    "                self.spatial_domain['envelope'] = {\n",
    "                    \"min_pos\": min_pos, \n",
    "                    \"max_pos\": max_pos,\n",
    "                    \"srs_urn\": srs_urn\n",
    "                }\n",
    "                grid = spatial_domain.find(nspath_eval('gml:Grid', namespaces))\n",
    "                # TODO: i am not really sure what to do with the grid re: ontology\n",
    "                self.spatial_domain['grid'] = {}\n",
    "\n",
    "            temporal_domain = domain_set.find(nspath_eval('wcs:temporalDomain', namespaces))\n",
    "            self.temporal_domain = {}\n",
    "            if temporal_domain is not None:\n",
    "                time_period = temporal_domain.find(nspath_eval('wcs:timePeriod', namespaces))\n",
    "                self.temporal_domain['begin_position'] = testXMLValue(time_period.find(nspath_eval('wcs:beginPosition', namespaces)))\n",
    "                self.temporal_domain['end_position'] = testXMLValue(time_period.find(nspath_eval('wcs:endPosition', namespaces)))\n",
    "\n",
    "            \n",
    "            self.rangesets = []\n",
    "            rangesets = elem.findall(nspath_eval('wcs:rangeSet/wcs:RangeSet', namespaces))\n",
    "            for rangeset in rangesets:\n",
    "                pass\n",
    "        \n",
    "            supported_crs = elem.find(nspath_eval('wcs:supportedCRSs', namespaces))\n",
    "            self.supported_crs = {}\n",
    "            for child in supported_crs.iterchildren():\n",
    "                # get the tag (kind of support) and the value\n",
    "                self.supported_crs[xmltag_split(child.tag)] = child.text.strip()\n",
    "            \n",
    "            supported_formats = elem.find(nspath_eval('wcs:supportedFormats', namespaces))\n",
    "            self.supported_formats = []\n",
    "            self.supported_formats.append(supported_formats.get('nativeFormat'))\n",
    "            for child in supported_formats.iterchildren():\n",
    "                self.supported_formats.append(child.text.strip())\n",
    "            self.supported_formats = list(set(self.supported_formats))\n",
    "            \n",
    "            supported_interpolations = elem.find(nspath_eval('wcs:supportedInterpolations', namespaces))\n",
    "            self.supported_interpolations = []\n",
    "            self.supported_interpolations.append(supported_interpolations.get('default'))\n",
    "            for child in supported_interpolations.iterchildren():\n",
    "                self.supported_interpolations.append(child.text.strip())\n",
    "            self.supported_interpolations = list(set(self.supported_interpolations))\n",
    "                \n",
    "    def _get_envelope(self, envelope):\n",
    "        srs_urn = envelope.attrib.get('srsName', '')\n",
    "        min_pos = testXMLValue(envelope.find(nspath_eval('gml:pos', namespaces)))\n",
    "        max_pos = testXMLValue(envelope.find(nspath_eval('gml:pos', namespaces)))\n",
    "        \n",
    "        return min_pos, max_pos, srs_urn"
   ]
  },
  {
   "cell_type": "code",
   "execution_count": 65,
   "metadata": {
    "collapsed": false
   },
   "outputs": [],
   "source": [
    "xml = '''<?xml version=\"1.0\" encoding=\"UTF-8\"?><CoverageDescription xmlns:gml=\"http://www.opengis.net/gml\" xmlns:wcs=\"http://www.opengis.net/wcs\" xmlns=\"http://www.opengis.net/wcs\" version=\"1.0.0\"><CoverageOffering ><description>Earth View 1KM Emissive Bands Scaled Integers</description><name>EV_1KM_Emissive:Day</name><label>Earth View 1KM Emissive Bands Scaled Integers</label><lonLatEnvelope srsName=\"urn:ogc:def:crs:OGC:1.3:CRS84\"><gml:pos>-180.000000 -90.000000</gml:pos><gml:pos>180.000000 90.000000</gml:pos></lonLatEnvelope><domainSet><spatialDomain><gml:Envelope srsName=\"EPSG:4326\"><gml:pos>-180.000000 -90.000000</gml:pos><gml:pos>180.000000 90.000000</gml:pos></gml:Envelope><gml:Grid dimension=\"2\" xmlns:xsi=\"http://www.w3.org/2001/XMLSchema-instance\" xsi:type=\"gml:RectifiedGridType\"><gml:limits><gml:GridEnvelope><gml:low>1 1</gml:low><gml:high>40030 20015</gml:high></gml:GridEnvelope></gml:limits><gml:axisName>Latitude</gml:axisName><gml:axisName>Longitude</gml:axisName><gml:origin><gml:pos>-180.00000 -90.00000</gml:pos></gml:origin><gml:offsetVector>0 0.250000</gml:offsetVector><gml:offsetVector>0 -0.250000</gml:offsetVector></gml:Grid></spatialDomain><temporalDomain><timePeriod frame=\"#ISO-8601\"><beginPosition frame=\"#ISO-8601\">2004-10-01</beginPosition><endPosition frame=\"#ISO-8601\">2015-06-17</endPosition></timePeriod></temporalDomain></domainSet><rangeSet><RangeSet ><description>Band</description><name>Band</name><label>Band</label><axisDescription><AxisDescription><description>Z-Axis: The number of 2-D slices. Represents number of bands for some products or number of mask bytes for others. Band_1KM_Emissive</description><name>Band_1KM_Emissive</name><label>Band_1KM_Emissive</label><values><interval><min>1</min><max>16</max><res>1</res></interval></values></AxisDescription></axisDescription></RangeSet></rangeSet><supportedCRSs><requestResponseCRSs>EPSG:4326</requestResponseCRSs><nativeCRSs>EPSG:4326</nativeCRSs></supportedCRSs><supportedFormats nativeFormat=\"raw binary\"><formats>hdf4</formats><formats>geotiff</formats><formats>jpeg</formats></supportedFormats><supportedInterpolations default=\"nearest neighbor\"><interpolationMethod>nearest neighbor</interpolationMethod><interpolationMethod>bilinear</interpolationMethod></supportedInterpolations></CoverageOffering></CoverageDescription>'''\n",
    "version = '1.0.0'\n",
    "\n",
    "desc = aDescribeCoverageReader('1.0.0', 'EV_1KM_Emissive:Day', None, xml=xml)\n"
   ]
  },
  {
   "cell_type": "code",
   "execution_count": 55,
   "metadata": {
    "collapsed": false
   },
   "outputs": [
    {
     "data": {
      "text/plain": [
       "'EV_1KM_Emissive:Day'"
      ]
     },
     "execution_count": 55,
     "metadata": {},
     "output_type": "execute_result"
    }
   ],
   "source": [
    "desc.coverages[0].name"
   ]
  },
  {
   "cell_type": "code",
   "execution_count": 68,
   "metadata": {
    "collapsed": false
   },
   "outputs": [
    {
     "data": {
      "text/plain": [
       "['bilinear', 'nearest neighbor']"
      ]
     },
     "execution_count": 68,
     "metadata": {},
     "output_type": "execute_result"
    }
   ],
   "source": [
    "desc.coverages[0].supported_interpolations"
   ]
  },
  {
   "cell_type": "code",
   "execution_count": null,
   "metadata": {
    "collapsed": true
   },
   "outputs": [],
   "source": []
  }
 ],
 "metadata": {
  "kernelspec": {
   "display_name": "Python 2",
   "language": "python",
   "name": "python2"
  },
  "language_info": {
   "codemirror_mode": {
    "name": "ipython",
    "version": 2
   },
   "file_extension": ".py",
   "mimetype": "text/x-python",
   "name": "python",
   "nbconvert_exporter": "python",
   "pygments_lexer": "ipython2",
   "version": "2.7.10"
  }
 },
 "nbformat": 4,
 "nbformat_minor": 0
}
