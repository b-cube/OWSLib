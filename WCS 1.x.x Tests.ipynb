{
 "metadata": {
  "name": "",
  "signature": "sha256:c9c1ce6cca3f9c0a4853a76298f0d03bd72454ae42e72a6c9b0f0a5acd65721c"
 },
 "nbformat": 3,
 "nbformat_minor": 0,
 "worksheets": [
  {
   "cells": [
    {
     "cell_type": "markdown",
     "metadata": {},
     "source": [
      "## Tasks\n",
      "\n",
      "<font color='red'>#</font> accessConstraints instead of accessconstraints (standardize across all)\n",
      "<font color='red'>#</font> WCS 1.0.0 - no operation parameters (verify in spec)\n",
      "<font color='red'>#</font> WCS 1.1.0 not functional file/url. Metadata entries are all none or empty."
     ]
    },
    {
     "cell_type": "code",
     "collapsed": false,
     "input": [
      "%reload_ext autoreload\n",
      "%autoreload 2\n",
      "\n",
      "from owslib.wcs import WebCoverageService"
     ],
     "language": "python",
     "metadata": {},
     "outputs": [],
     "prompt_number": 75
    },
    {
     "cell_type": "code",
     "collapsed": false,
     "input": [
      "# wcs 1.0.0\n",
      "with open('notebooks/xmls/wcs100.xml', 'r') as f:\n",
      "    xml = f.read()\n",
      "\n",
      "wcs100 = WebCoverageService('', xml=xml, version='1.0.0')\n",
      "\n",
      "print 'title:', wcs100.identification.title\n",
      "print 'abstract:', wcs100.identification.abstract\n",
      "print 'keywords:', wcs100.identification.keywords\n",
      "print 'access constraints:', wcs100.identification.accessConstraints\n",
      "print 'contact:', wcs100.provider.contact.name\n",
      "\n",
      "for op in wcs100.operations:\n",
      "    print op.name #, '(', op.formatOptions, ')'\n",
      "    print '\\t', op.methods\n",
      "    # print '\\t', op.parameters\n",
      "    print ''"
     ],
     "language": "python",
     "metadata": {},
     "outputs": [
      {
       "output_type": "stream",
       "stream": "stdout",
       "text": [
        "title: GMU LAITS Web Coverage Server\n",
        "abstract: GeoBrain Web Coverage Server for DEM data\n",
        "keywords: ['GMU LAITS GeoBrain WCS DEM']\n",
        "access constraints: NONE\n",
        "contact: Liping Di\n",
        "GetCapabilities\n",
        "\t[{'url': 'http://geobrain.laits.gmu.edu/cgi-bin/gbwcs-dem?', 'type': 'Get'}, {'url': 'http://geobrain.laits.gmu.edu/cgi-bin/gbwcs-dem?', 'type': 'Post'}]\n",
        "\n",
        "DescribeCoverage\n",
        "\t[{'url': 'http://geobrain.laits.gmu.edu/cgi-bin/gbwcs-dem?', 'type': 'Get'}, {'url': 'http://geobrain.laits.gmu.edu/cgi-bin/gbwcs-dem?', 'type': 'Post'}]\n",
        "\n",
        "GetCoverage\n",
        "\t[{'url': 'http://geobrain.laits.gmu.edu/cgi-bin/gbwcs-dem?', 'type': 'Get'}, {'url': 'http://geobrain.laits.gmu.edu/cgi-bin/gbwcs-dem?', 'type': 'Post'}]\n",
        "\n"
       ]
      }
     ],
     "prompt_number": 76
    },
    {
     "cell_type": "markdown",
     "metadata": {},
     "source": [
      "WCS 1.0.0 Notes\n",
      "- no formatOptions for this version at all\n",
      "- no parameters either"
     ]
    },
    {
     "cell_type": "code",
     "collapsed": false,
     "input": [
      "# wcs 1.1.0 (do not have a valid example of this and \n",
      "# there isn't one in the repo!)\n",
      "# see the wcs111.xml example from here:\n",
      "# http://ogi.state.ok.us/geoserver/wcs?VERSION=1.1.0&REQUEST=GetCapabilities&SERVICE=WCS\n",
      "\n",
      "# try the url\n",
      "wcs110 = WebCoverageService('http://ogi.state.ok.us/geoserver/wcs?VERSION=1.1.0&REQUEST=GetCapabilities&SERVICE=WCS', version='1.1.0')\n",
      "\n",
      "print 'title:', wcs110.identification.title\n",
      "print 'abstract:', wcs110.identification.abstract\n",
      "print 'keywords:', wcs110.identification.keywords\n",
      "print 'access constraints:', wcs110.identification.accessConstraints\n",
      "print 'contact:', wcs110.provider.contact.name\n",
      "\n",
      "for op in wcs110.operations:\n",
      "    print op.name , '(', op.formatOptions, ')'\n",
      "    print '\\t', op.methods\n",
      "    print '\\t', op.parameters\n",
      "    print ''"
     ],
     "language": "python",
     "metadata": {},
     "outputs": [
      {
       "output_type": "stream",
       "stream": "stdout",
       "text": [
        "title: Web Coverage Service\n",
        "abstract: This server implements the WCS specification 1.0 and 1.1.1, it's reference implementation of WCS 1.1.1. All layers published by this service are available on WMS also.\n",
        "keywords: ['WCS', 'WMS', 'GEOSERVER']\n",
        "access constraints: NONE\n",
        "contact: Mike Sharp\n",
        "GetCapabilities ( None )\n",
        "\t[{'url': 'http://204.62.18.179:8080/geoserver/wcs?', 'type': 'Get'}, {'url': 'http://204.62.18.179:8080/geoserver/wcs?', 'type': 'Post'}]\n",
        "\t[]\n",
        "\n",
        "DescribeCoverage ( None )\n",
        "\t[{'url': 'http://204.62.18.179:8080/geoserver/wcs?', 'type': 'Get'}, {'url': 'http://204.62.18.179:8080/geoserver/wcs?', 'type': 'Post'}]\n",
        "\t[]\n",
        "\n",
        "GetCoverage ( None )\n",
        "\t[{'url': 'http://204.62.18.179:8080/geoserver/wcs?', 'type': 'Get'}, {'url': 'http://204.62.18.179:8080/geoserver/wcs?', 'type': 'Post'}]\n",
        "\t[{'store': {'values': ['True', 'False']}}]\n",
        "\n"
       ]
      }
     ],
     "prompt_number": 77
    },
    {
     "cell_type": "markdown",
     "metadata": {},
     "source": [
      "Well okay then. That's not correct at all - there are text values for the metadata and there are certainly operations."
     ]
    },
    {
     "cell_type": "code",
     "collapsed": false,
     "input": [
      "#from owslib.coverage.wcsBase import WCSBase, WCSCapabilitiesReader, ServiceException\n",
      "#from owslib.coverage.wcs110 import ns, findall, find\n",
      "\n",
      "# so try the file\n",
      "with open('notebooks/xmls/wcs111.xml', 'r') as f:\n",
      "    xml = f.read()\n",
      "\n",
      "wcs111 = WebCoverageService('', xml=xml, version='1.1.1')\n",
      "\n",
      "print 'title:', wcs111.identification.title\n",
      "print 'abstract:', wcs111.identification.abstract\n",
      "print 'keywords:', wcs111.identification.keywords\n",
      "print 'access constraints:', wcs111.identification.accessConstraints\n",
      "print 'contact:', wcs111.provider.contact.name\n",
      "\n",
      "for op in wcs111.operations:\n",
      "    print op.name , '(', op.formatOptions, ')'\n",
      "    print '\\t', op.methods\n",
      "    print '\\t', op.parameters\n",
      "    print '\\t', op.constraints\n",
      "    print ''"
     ],
     "language": "python",
     "metadata": {},
     "outputs": [
      {
       "output_type": "stream",
       "stream": "stdout",
       "text": [
        "title: Web Coverage Service\n",
        "abstract: This server implements the WCS specification 1.0 and 1.1.1, it's reference implementation of WCS 1.1.1. All layers published by this service are available on WMS also.\n",
        "keywords: ['WCS', 'WMS', 'GEOSERVER']\n",
        "access constraints: NONE\n",
        "contact: Mike Sharp\n",
        "GetCapabilities ( None )\n",
        "\t[{'url': 'http://204.62.18.179:8080/geoserver/wcs?', 'type': 'Get'}, {'url': 'http://204.62.18.179:8080/geoserver/wcs?', 'type': 'Post'}]\n",
        "\t[]\n",
        "\t[{'PostEncoding': {'values': ['XML']}}]\n",
        "\n",
        "DescribeCoverage ( None )\n",
        "\t[{'url': 'http://204.62.18.179:8080/geoserver/wcs?', 'type': 'Get'}, {'url': 'http://204.62.18.179:8080/geoserver/wcs?', 'type': 'Post'}]\n",
        "\t[]\n",
        "\t[{'PostEncoding': {'values': ['XML']}}]\n",
        "\n",
        "GetCoverage ( None )\n",
        "\t[{'url': 'http://204.62.18.179:8080/geoserver/wcs?', 'type': 'Get'}, {'url': 'http://204.62.18.179:8080/geoserver/wcs?', 'type': 'Post'}]\n",
        "\t[{'store': {'values': ['True', 'False']}}]\n",
        "\t[{'PostEncoding': {'values': ['XML']}}]\n",
        "\n"
       ]
      }
     ],
     "prompt_number": 81
    },
    {
     "cell_type": "markdown",
     "metadata": {},
     "source": [
      "So that's still no good. There might be an existing branch? We should check on that."
     ]
    },
    {
     "cell_type": "code",
     "collapsed": false,
     "input": [
      "# wcs 1.1.2 (not supported, not going to bother until it is)\n",
      "\n",
      "with open('notebooks/xmls/wcs112.xml', 'r') as f:\n",
      "    xml = f.read()\n",
      "\n",
      "wcs112 = WebCoverageService('', xml=xml, version='1.1.2')\n",
      "\n",
      "print 'title:', wcs112.identification.title\n",
      "print 'abstract:', wcs112.identification.abstract\n",
      "print 'keywords:', wcs112.identification.keywords\n",
      "print 'access constraints:', wcs112.identification.accessConstraints\n",
      "print 'contact:', wcs112.provider.contact.name\n",
      "\n",
      "for op in wcs112.operations:\n",
      "    print op.name , '(', op.formatOptions, ')'\n",
      "    print '\\t', op.methods\n",
      "    print '\\t', op.parameters\n",
      "    print '\\t', op.constraints\n",
      "    print ''"
     ],
     "language": "python",
     "metadata": {},
     "outputs": [
      {
       "output_type": "stream",
       "stream": "stdout",
       "text": [
        "title: DataAtlas_NCDC_SeaWinds_Fall\n",
        "abstract: None\n",
        "keywords: []\n",
        "access constraints: None\n",
        "contact: None\n",
        "GetCapabilities ( None )\n",
        "\t[{'url': 'http://www.ncddc.noaa.gov/arcgis/services/DataAtlas/NCDC_SeaWinds_Fall/MapServer/WCSServer', 'type': 'Get'}, {'url': 'http://www.ncddc.noaa.gov/arcgis/services/DataAtlas/NCDC_SeaWinds_Fall/MapServer/WCSServer', 'type': 'Post'}]\n",
        "\t[{'service': {'values': ['WCS']}}, {'AcceptVersions': {'values': ['1.0.0', '1.1.0', '1.1.1', '1.1.2']}}]\n",
        "\t[]\n",
        "\n",
        "DescribeCoverage ( None )\n",
        "\t[{'url': 'http://www.ncddc.noaa.gov/arcgis/services/DataAtlas/NCDC_SeaWinds_Fall/MapServer/WCSServer', 'type': 'Get'}, {'url': 'http://www.ncddc.noaa.gov/arcgis/services/DataAtlas/NCDC_SeaWinds_Fall/MapServer/WCSServer', 'type': 'Post'}]\n",
        "\t[{'service': {'values': ['WCS']}}, {'version': {'values': ['1.0.0', '1.1.0', '1.1.1', '1.1.2']}}, {'Identifier': {'values': ['1']}}]\n",
        "\t[]\n",
        "\n",
        "GetCoverage ( None )\n",
        "\t[{'url': 'http://www.ncddc.noaa.gov/arcgis/services/DataAtlas/NCDC_SeaWinds_Fall/MapServer/WCSServer', 'type': 'Get'}, {'url': 'http://www.ncddc.noaa.gov/arcgis/services/DataAtlas/NCDC_SeaWinds_Fall/MapServer/WCSServer', 'type': 'Post'}]\n",
        "\t[{'service': {'values': ['WCS']}}, {'version': {'values': ['1.0.0', '1.1.0', '1.1.1', '1.1.2']}}, {'Identifier': {'values': ['1']}}, {'InterpolationType': {'values': ['nearest', 'bilinear', 'bicubic']}}, {'format': {'values': ['image/GeoTIFF', 'image/NITF', 'image/JPEG', 'image/PNG', 'image/JPEG2000', 'image/HDF']}}, {'store': {'values': ['False', 'True']}}]\n",
        "\t[]\n",
        "\n"
       ]
      }
     ],
     "prompt_number": 82
    },
    {
     "cell_type": "code",
     "collapsed": false,
     "input": [],
     "language": "python",
     "metadata": {},
     "outputs": []
    }
   ],
   "metadata": {}
  }
 ]
}