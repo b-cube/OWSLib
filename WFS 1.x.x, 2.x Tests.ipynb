{
 "metadata": {
  "name": "",
  "signature": "sha256:44ecf04bb1b93ad48cc8e2da2e7173905a4041d8326e2570b7e3717ba5738214"
 },
 "nbformat": 3,
 "nbformat_minor": 0,
 "worksheets": [
  {
   "cells": [
    {
     "cell_type": "markdown",
     "metadata": {},
     "source": [
      "### Tasks\n",
      "\n",
      "<font color='green'>#</font> skipping the DescribeFeatureType \"SchemaDescriptionLanguage\" element\n",
      "<font color='green'>#</font> namespace is also not stripped off of that ResultFormat"
     ]
    },
    {
     "cell_type": "code",
     "collapsed": false,
     "input": [
      "%reload_ext autoreload\n",
      "%autoreload 2\n",
      "\n",
      "from owslib.wfs import WebFeatureService"
     ],
     "language": "python",
     "metadata": {},
     "outputs": [],
     "prompt_number": 11
    },
    {
     "cell_type": "code",
     "collapsed": false,
     "input": [
      "# wfs 1.0.0\n",
      "with open('notebooks/xmls/wfs100.xml', 'r') as f:\n",
      "    xml = f.read()\n",
      "\n",
      "wfs100 = WebFeatureService('', xml=xml, version='1.0.0')\n",
      "\n",
      "print 'title:', wfs100.identification.title\n",
      "print 'abstract:', wfs100.identification.abstract\n",
      "print 'keywords:', wfs100.identification.keywords\n",
      "print 'access constraints:', wfs100.identification.accessconstraints\n",
      "# print 'contact:', wfs100.provider.contact.name\n",
      "\n",
      "for op in wfs100.operations:\n",
      "    print op.name , '(', op.formatOptions, ')'\n",
      "    print '\\t', op.methods\n",
      "    # print '\\t', op.parameters\n",
      "    print ''"
     ],
     "language": "python",
     "metadata": {},
     "outputs": [
      {
       "output_type": "stream",
       "stream": "stdout",
       "text": [
        "title: Podiform_chromite_deposits\n",
        "abstract: some text for making it a valid response\n",
        "keywords: ['Water']\n",
        "access constraints: none\n",
        "GetCapabilities ( [] )\n",
        "\t[{'url': 'http://mrdata.usgs.gov/cgi-bin/mapserv?map=/mnt/mrt/map-files/podchrome.map&', 'type': 'Get'}, {'url': 'http://mrdata.usgs.gov/cgi-bin/mapserv?map=/mnt/mrt/map-files/podchrome.map&', 'type': 'Post'}]\n",
        "\n",
        "DescribeFeatureType ( ['XMLSCHEMA'] )\n",
        "\t[{'url': 'http://mrdata.usgs.gov/cgi-bin/mapserv?map=/mnt/mrt/map-files/podchrome.map&', 'type': 'Get'}, {'url': 'http://mrdata.usgs.gov/cgi-bin/mapserv?map=/mnt/mrt/map-files/podchrome.map&', 'type': 'Post'}]\n",
        "\n",
        "GetFeature ( ['GML2'] )\n",
        "\t[{'url': 'http://mrdata.usgs.gov/cgi-bin/mapserv?map=/mnt/mrt/map-files/podchrome.map&', 'type': 'Get'}, {'url': 'http://mrdata.usgs.gov/cgi-bin/mapserv?map=/mnt/mrt/map-files/podchrome.map&', 'type': 'Post'}]\n",
        "\n"
       ]
      }
     ],
     "prompt_number": 12
    },
    {
     "cell_type": "markdown",
     "metadata": {},
     "source": [
      "Note: this spec has no serviceprovider block. the code repeats the keywords (although that extract_xml_list is busted) and the root name. It is not a valid chunk of metadata (duplicated).\n",
      "\n",
      "formatOptions is only functional for one operation (GetFeature) so that's skipping the DescribeFeatureType \"SchemaDescriptionLanguage\" element. The namespace is also not stripped off of that ResultFormat tag.\n",
      "\n",
      "No parameters in the schema."
     ]
    },
    {
     "cell_type": "code",
     "collapsed": false,
     "input": [
      "# wfs 1.1.0\n",
      "with open('notebooks/xmls/wfs110.xml', 'r') as f:\n",
      "    xml = f.read()\n",
      "\n",
      "wfs110 = WebFeatureService('', xml=xml, version='1.1.0')\n",
      "\n",
      "print 'title:', wfs110.identification.title\n",
      "print 'abstract:', wfs110.identification.abstract\n",
      "print 'keywords:', wfs110.identification.keywords\n",
      "print 'access constraints:', wfs110.identification.accessconstraints\n",
      "print 'contact:', wfs110.provider.contact.name\n",
      "\n",
      "for op in wfs110.operations:\n",
      "    print op.name , '(', op.formatOptions, ')'\n",
      "    print '\\t', op.methods\n",
      "    print '\\t', op.parameters\n",
      "    print ''"
     ],
     "language": "python",
     "metadata": {},
     "outputs": [
      {
       "output_type": "stream",
       "stream": "stdout",
       "text": [
        "title: 1998 Assessment of Undiscovered Deposits of Gold, Silver, Copper, Lead, and Zinc in the United States\n",
        "abstract: Estimates of the number and size of undiscovered mineral deposits containing gold, silver, copper, lead, and zinc in the US, by type of deposit.\n",
        "keywords: ['metallic mineral resources; natural resource assessment; gold; silver; copper; lead; zinc']\n",
        "access constraints: none\n",
        "contact: Peter N. Schweitzer\n",
        "GetCapabilities ( ['text/xml'] )\n",
        "\t[{'url': 'http://mrdata.usgs.gov/services/nmra?', 'type': 'Get', 'constraints': []}, {'url': 'http://mrdata.usgs.gov/services/nmra?', 'type': 'Post', 'constraints': []}]\n",
        "\t{'AcceptVersions': {'values': ['1.0.0', '1.1.0']}, 'AcceptFormats': {'values': ['text/xml']}, 'service': {'values': ['WFS']}}\n",
        "\n",
        "DescribeFeatureType ( ['text/xml'] )\n",
        "\t[{'url': 'http://mrdata.usgs.gov/services/nmra?', 'type': 'Get', 'constraints': []}, {'url': 'http://mrdata.usgs.gov/services/nmra?', 'type': 'Post', 'constraints': []}]\n",
        "\t{'outputFormat': {'values': ['XMLSCHEMA', 'text/xml; subtype=gml/2.1.2', 'text/xml; subtype=gml/3.1.1']}}\n",
        "\n",
        "GetFeature ( ['text/xml'] )\n",
        "\t[{'url': 'http://mrdata.usgs.gov/services/nmra?', 'type': 'Get', 'constraints': []}, {'url': 'http://mrdata.usgs.gov/services/nmra?', 'type': 'Post', 'constraints': []}]\n",
        "\t{'resultType': {'values': ['results', 'hits']}, 'outputFormat': {'values': ['text/xml; subtype=gml/3.1.1']}}\n",
        "\n"
       ]
      }
     ],
     "prompt_number": 14
    },
    {
     "cell_type": "markdown",
     "metadata": {},
     "source": [
      "Not getting constraints. Same OWS Common issues."
     ]
    },
    {
     "cell_type": "code",
     "collapsed": false,
     "input": [],
     "language": "python",
     "metadata": {},
     "outputs": []
    }
   ],
   "metadata": {}
  }
 ]
}